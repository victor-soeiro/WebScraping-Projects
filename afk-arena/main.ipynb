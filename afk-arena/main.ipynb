{
 "cells": [
  {
   "cell_type": "code",
   "execution_count": 1,
   "id": "bce0bb11-f662-450c-8d7a-021535ca931a",
   "metadata": {},
   "outputs": [],
   "source": [
    "import requests\n",
    "import pandas as pd\n",
    "\n",
    "from tqdm.notebook import tqdm\n",
    "from bs4 import BeautifulSoup"
   ]
  },
  {
   "cell_type": "code",
   "execution_count": 2,
   "id": "151ef52e-ac1f-421f-8365-37f76939ac6f",
   "metadata": {},
   "outputs": [],
   "source": [
    "url = 'https://afk-arena.fandom.com/wiki/Heroes'"
   ]
  },
  {
   "cell_type": "code",
   "execution_count": 3,
   "id": "6efa07e9-19a1-4bd0-909b-12d752378e76",
   "metadata": {},
   "outputs": [
    {
     "data": {
      "text/plain": [
       "200"
      ]
     },
     "execution_count": 3,
     "metadata": {},
     "output_type": "execute_result"
    }
   ],
   "source": [
    "req = requests.get(url)\n",
    "req.status_code"
   ]
  },
  {
   "cell_type": "code",
   "execution_count": 4,
   "id": "90073a81-4567-4d9b-935f-cbfcd470835d",
   "metadata": {},
   "outputs": [],
   "source": [
    "soup = BeautifulSoup(req.text, 'html.parser')"
   ]
  },
  {
   "cell_type": "code",
   "execution_count": 10,
   "id": "4b278c8a-20ce-45f6-af01-a3629cb76b69",
   "metadata": {},
   "outputs": [
    {
     "data": {
      "text/plain": [
       "142"
      ]
     },
     "execution_count": 10,
     "metadata": {},
     "output_type": "execute_result"
    }
   ],
   "source": [
    "items = [i for c in soup.findAll('table', attrs={'class': 'wikitable'})[1:] for i in c.tbody.findAll('tr')][1:]\n",
    "len(items)"
   ]
  },
  {
   "cell_type": "code",
   "execution_count": 14,
   "id": "e831f7a0-90c2-430c-b4a4-8a28fe8d3f2a",
   "metadata": {},
   "outputs": [],
   "source": [
    "def get_item_information(url):\n",
    "    req = requests.get(url)\n",
    "    if req.status_code != 200:\n",
    "        raise requests.ConnectionError(f'Connection failed [{req.status_code}] to {url}.')\n",
    "    \n",
    "    soup = BeautifulSoup(req.text, 'html.parser')\n",
    "    \n",
    "    data = {}\n",
    "    \n",
    "    data['name'] = soup.find('h2', attrs={'data-source': 'name'}).text.strip()\n",
    "    title = soup.find('h2', attrs={'data-source': 'title'})\n",
    "    if title:\n",
    "        data['title'] = title.text.strip()\n",
    "        \n",
    "    stats = soup.findAll('div', attrs={'class': 'pi-item'})\n",
    "    for s in stats:\n",
    "        key = s.h3.text.strip()\n",
    "        if s.find('ul'):\n",
    "            data[key] = [list(u)[0].text.strip() for u in s.findAll('li')]\n",
    "        elif s.find('img'):\n",
    "            data[key] = s.div.text.strip()\n",
    "        else:\n",
    "            data[key] = list(s.div.children)[0].text.strip()\n",
    "    \n",
    "    data['image'] = soup.find('a', attrs={'class': 'image-thumbnail'})['href']\n",
    "    \n",
    "    return data"
   ]
  },
  {
   "cell_type": "code",
   "execution_count": 15,
   "id": "342a35be-645b-47d3-888a-481b2a5e8c6c",
   "metadata": {},
   "outputs": [],
   "source": [
    "data = []"
   ]
  },
  {
   "cell_type": "code",
   "execution_count": 16,
   "id": "f7ee050f-d0d1-4f59-a9e8-1738c30d630b",
   "metadata": {},
   "outputs": [
    {
     "data": {
      "application/vnd.jupyter.widget-view+json": {
       "model_id": "59c0e637adb3439c9f1bf2b64016ca51",
       "version_major": 2,
       "version_minor": 0
      },
      "text/plain": [
       "  0%|          | 0/142 [00:00<?, ?it/s]"
      ]
     },
     "metadata": {},
     "output_type": "display_data"
    }
   ],
   "source": [
    "for i in tqdm(items):\n",
    "    if i.find('th'):\n",
    "        continue\n",
    "    \n",
    "    columns = i.findAll('td')\n",
    "    link = 'https://afk-arena.fandom.com' + columns[2].a['href']\n",
    "    \n",
    "    item = get_item_information(link)\n",
    "    item['link'] = link\n",
    "    \n",
    "    data.append(item)"
   ]
  },
  {
   "cell_type": "code",
   "execution_count": 17,
   "id": "20c199dc-5a93-4c7d-b1ca-b9e3498d6683",
   "metadata": {},
   "outputs": [
    {
     "data": {
      "text/plain": [
       "{'name': 'Estrilda',\n",
       " 'title': 'Knight Of Valor',\n",
       " 'Faction': 'Lightbearer',\n",
       " 'Type': 'Strength',\n",
       " 'Class': 'Warrior',\n",
       " 'Role': 'Burst Damage',\n",
       " 'Rarity': 'Ascended',\n",
       " 'Union': 'Castellans',\n",
       " 'Monikers': ['The Fledgling of House Rayne',\n",
       "  'Miss -- Thane',\n",
       "  'Commander -- Her men'],\n",
       " 'Gender': 'Female',\n",
       " 'Height': '170 cm',\n",
       " 'Age': '23',\n",
       " 'Relatives': ['Baron Rayne -- Father', 'Baden', 'Amanda', 'Sofia -- Nanny'],\n",
       " 'Affiliations': ['Thane'],\n",
       " 'Enemies': ['The Court of Terror', 'The Eldritch Council'],\n",
       " 'Past Residence': 'Ranhorn',\n",
       " 'Voice Actor': ['Rachel Roasek [EN]', 'Aoi Yūki [JP]'],\n",
       " 'image': 'https://static.wikia.nocookie.net/afk-arena/images/0/0b/Estrilda.png/revision/latest?cb=20181215113356',\n",
       " 'link': 'https://afk-arena.fandom.com/wiki/Estrilda'}"
      ]
     },
     "execution_count": 17,
     "metadata": {},
     "output_type": "execute_result"
    }
   ],
   "source": [
    "data[0]"
   ]
  },
  {
   "cell_type": "code",
   "execution_count": 18,
   "id": "1e8dd49e-3e3d-415b-8044-5948ba6dbe7c",
   "metadata": {},
   "outputs": [
    {
     "data": {
      "text/html": [
       "<div>\n",
       "<style scoped>\n",
       "    .dataframe tbody tr th:only-of-type {\n",
       "        vertical-align: middle;\n",
       "    }\n",
       "\n",
       "    .dataframe tbody tr th {\n",
       "        vertical-align: top;\n",
       "    }\n",
       "\n",
       "    .dataframe thead th {\n",
       "        text-align: right;\n",
       "    }\n",
       "</style>\n",
       "<table border=\"1\" class=\"dataframe\">\n",
       "  <thead>\n",
       "    <tr style=\"text-align: right;\">\n",
       "      <th></th>\n",
       "      <th>name</th>\n",
       "      <th>title</th>\n",
       "      <th>Faction</th>\n",
       "      <th>Type</th>\n",
       "      <th>Class</th>\n",
       "      <th>Role</th>\n",
       "      <th>Rarity</th>\n",
       "      <th>Union</th>\n",
       "      <th>Monikers</th>\n",
       "      <th>Gender</th>\n",
       "      <th>...</th>\n",
       "      <th>Enemies</th>\n",
       "      <th>Past Residence</th>\n",
       "      <th>Voice Actor</th>\n",
       "      <th>image</th>\n",
       "      <th>link</th>\n",
       "      <th>Race</th>\n",
       "      <th>Current Residence</th>\n",
       "      <th>Added</th>\n",
       "      <th>Primary Role</th>\n",
       "      <th>Secondary Role</th>\n",
       "    </tr>\n",
       "  </thead>\n",
       "  <tbody>\n",
       "    <tr>\n",
       "      <th>0</th>\n",
       "      <td>Estrilda</td>\n",
       "      <td>Knight Of Valor</td>\n",
       "      <td>Lightbearer</td>\n",
       "      <td>Strength</td>\n",
       "      <td>Warrior</td>\n",
       "      <td>Burst Damage</td>\n",
       "      <td>Ascended</td>\n",
       "      <td>Castellans</td>\n",
       "      <td>[The Fledgling of House Rayne, Miss -- Thane, ...</td>\n",
       "      <td>Female</td>\n",
       "      <td>...</td>\n",
       "      <td>[The Court of Terror, The Eldritch Council]</td>\n",
       "      <td>Ranhorn</td>\n",
       "      <td>[Rachel Roasek [EN], Aoi Yūki [JP]]</td>\n",
       "      <td>https://static.wikia.nocookie.net/afk-arena/im...</td>\n",
       "      <td>https://afk-arena.fandom.com/wiki/Estrilda</td>\n",
       "      <td>NaN</td>\n",
       "      <td>NaN</td>\n",
       "      <td>NaN</td>\n",
       "      <td>NaN</td>\n",
       "      <td>NaN</td>\n",
       "    </tr>\n",
       "    <tr>\n",
       "      <th>1</th>\n",
       "      <td>Belinda</td>\n",
       "      <td>Beam of Hope</td>\n",
       "      <td>Lightbearer</td>\n",
       "      <td>Intelligence</td>\n",
       "      <td>Mage</td>\n",
       "      <td>AoE</td>\n",
       "      <td>Ascended</td>\n",
       "      <td>The Lightbringers</td>\n",
       "      <td>NaN</td>\n",
       "      <td>Female</td>\n",
       "      <td>...</td>\n",
       "      <td>NaN</td>\n",
       "      <td>NaN</td>\n",
       "      <td>[Holly Lindin [EN], Yui Horie [JP]]</td>\n",
       "      <td>https://static.wikia.nocookie.net/afk-arena/im...</td>\n",
       "      <td>https://afk-arena.fandom.com/wiki/Belinda</td>\n",
       "      <td>NaN</td>\n",
       "      <td>NaN</td>\n",
       "      <td>NaN</td>\n",
       "      <td>NaN</td>\n",
       "      <td>NaN</td>\n",
       "    </tr>\n",
       "    <tr>\n",
       "      <th>2</th>\n",
       "      <td>Raine</td>\n",
       "      <td>Death's Denier</td>\n",
       "      <td>Lightbearer</td>\n",
       "      <td>Agility</td>\n",
       "      <td>Support</td>\n",
       "      <td>Buffer</td>\n",
       "      <td>Ascended</td>\n",
       "      <td>The Bounty Hunters</td>\n",
       "      <td>Young Lady -- Fisherman</td>\n",
       "      <td>Female</td>\n",
       "      <td>...</td>\n",
       "      <td>NaN</td>\n",
       "      <td>The Lightbearers Empire</td>\n",
       "      <td>[Sandra Osborne [EN], Wakura Yayoi [JP]]</td>\n",
       "      <td>https://static.wikia.nocookie.net/afk-arena/im...</td>\n",
       "      <td>https://afk-arena.fandom.com/wiki/Raine</td>\n",
       "      <td>Human</td>\n",
       "      <td>Rustport</td>\n",
       "      <td>NaN</td>\n",
       "      <td>NaN</td>\n",
       "      <td>NaN</td>\n",
       "    </tr>\n",
       "    <tr>\n",
       "      <th>3</th>\n",
       "      <td>Rosaline</td>\n",
       "      <td>The Kind</td>\n",
       "      <td>Lightbearer</td>\n",
       "      <td>Intelligence</td>\n",
       "      <td>Support</td>\n",
       "      <td>Buffer</td>\n",
       "      <td>Ascended</td>\n",
       "      <td>NaN</td>\n",
       "      <td>My Lovely Rosaline --</td>\n",
       "      <td>Female</td>\n",
       "      <td>...</td>\n",
       "      <td>NaN</td>\n",
       "      <td>NaN</td>\n",
       "      <td>[Madison Brunoehler [EN], Yuko Toba [JP]]</td>\n",
       "      <td>https://static.wikia.nocookie.net/afk-arena/im...</td>\n",
       "      <td>https://afk-arena.fandom.com/wiki/Rosaline</td>\n",
       "      <td>Human</td>\n",
       "      <td>NaN</td>\n",
       "      <td>26 July, 2019 (</td>\n",
       "      <td>NaN</td>\n",
       "      <td>NaN</td>\n",
       "    </tr>\n",
       "    <tr>\n",
       "      <th>4</th>\n",
       "      <td>Lucius</td>\n",
       "      <td>Lightbringer</td>\n",
       "      <td>Lightbearer</td>\n",
       "      <td>Strength</td>\n",
       "      <td>Tank</td>\n",
       "      <td>Regen</td>\n",
       "      <td>Ascended</td>\n",
       "      <td>The Lightbringers</td>\n",
       "      <td>Dumb Beefcake -</td>\n",
       "      <td>Male</td>\n",
       "      <td>...</td>\n",
       "      <td>NaN</td>\n",
       "      <td>NaN</td>\n",
       "      <td>Kouji Katano</td>\n",
       "      <td>https://static.wikia.nocookie.net/afk-arena/im...</td>\n",
       "      <td>https://afk-arena.fandom.com/wiki/Lucius</td>\n",
       "      <td>Human</td>\n",
       "      <td>NaN</td>\n",
       "      <td>7 March, 2019 (</td>\n",
       "      <td>NaN</td>\n",
       "      <td>NaN</td>\n",
       "    </tr>\n",
       "  </tbody>\n",
       "</table>\n",
       "<p>5 rows × 24 columns</p>\n",
       "</div>"
      ],
      "text/plain": [
       "       name            title      Faction          Type    Class  \\\n",
       "0  Estrilda  Knight Of Valor  Lightbearer      Strength  Warrior   \n",
       "1   Belinda     Beam of Hope  Lightbearer  Intelligence     Mage   \n",
       "2     Raine   Death's Denier  Lightbearer       Agility  Support   \n",
       "3  Rosaline         The Kind  Lightbearer  Intelligence  Support   \n",
       "4    Lucius     Lightbringer  Lightbearer      Strength     Tank   \n",
       "\n",
       "           Role    Rarity               Union  \\\n",
       "0  Burst Damage  Ascended          Castellans   \n",
       "1           AoE  Ascended   The Lightbringers   \n",
       "2        Buffer  Ascended  The Bounty Hunters   \n",
       "3        Buffer  Ascended                 NaN   \n",
       "4         Regen  Ascended   The Lightbringers   \n",
       "\n",
       "                                            Monikers  Gender  ...  \\\n",
       "0  [The Fledgling of House Rayne, Miss -- Thane, ...  Female  ...   \n",
       "1                                                NaN  Female  ...   \n",
       "2                            Young Lady -- Fisherman  Female  ...   \n",
       "3                              My Lovely Rosaline --  Female  ...   \n",
       "4                                    Dumb Beefcake -    Male  ...   \n",
       "\n",
       "                                       Enemies           Past Residence  \\\n",
       "0  [The Court of Terror, The Eldritch Council]                  Ranhorn   \n",
       "1                                          NaN                      NaN   \n",
       "2                                          NaN  The Lightbearers Empire   \n",
       "3                                          NaN                      NaN   \n",
       "4                                          NaN                      NaN   \n",
       "\n",
       "                                 Voice Actor  \\\n",
       "0        [Rachel Roasek [EN], Aoi Yūki [JP]]   \n",
       "1        [Holly Lindin [EN], Yui Horie [JP]]   \n",
       "2   [Sandra Osborne [EN], Wakura Yayoi [JP]]   \n",
       "3  [Madison Brunoehler [EN], Yuko Toba [JP]]   \n",
       "4                               Kouji Katano   \n",
       "\n",
       "                                               image  \\\n",
       "0  https://static.wikia.nocookie.net/afk-arena/im...   \n",
       "1  https://static.wikia.nocookie.net/afk-arena/im...   \n",
       "2  https://static.wikia.nocookie.net/afk-arena/im...   \n",
       "3  https://static.wikia.nocookie.net/afk-arena/im...   \n",
       "4  https://static.wikia.nocookie.net/afk-arena/im...   \n",
       "\n",
       "                                         link   Race Current Residence  \\\n",
       "0  https://afk-arena.fandom.com/wiki/Estrilda    NaN               NaN   \n",
       "1   https://afk-arena.fandom.com/wiki/Belinda    NaN               NaN   \n",
       "2     https://afk-arena.fandom.com/wiki/Raine  Human          Rustport   \n",
       "3  https://afk-arena.fandom.com/wiki/Rosaline  Human               NaN   \n",
       "4    https://afk-arena.fandom.com/wiki/Lucius  Human               NaN   \n",
       "\n",
       "             Added Primary Role Secondary Role  \n",
       "0              NaN          NaN            NaN  \n",
       "1              NaN          NaN            NaN  \n",
       "2              NaN          NaN            NaN  \n",
       "3  26 July, 2019 (          NaN            NaN  \n",
       "4  7 March, 2019 (          NaN            NaN  \n",
       "\n",
       "[5 rows x 24 columns]"
      ]
     },
     "execution_count": 18,
     "metadata": {},
     "output_type": "execute_result"
    }
   ],
   "source": [
    "df = pd.DataFrame(data)\n",
    "df.head()"
   ]
  },
  {
   "cell_type": "code",
   "execution_count": 19,
   "id": "514aea8a-6714-4254-9311-ea831aee34fa",
   "metadata": {},
   "outputs": [
    {
     "data": {
      "text/plain": [
       "(128, 24)"
      ]
     },
     "execution_count": 19,
     "metadata": {},
     "output_type": "execute_result"
    }
   ],
   "source": [
    "df.shape"
   ]
  },
  {
   "cell_type": "code",
   "execution_count": 21,
   "id": "5015b0f2-bbec-4c08-bb10-2a3a5da2f5fd",
   "metadata": {},
   "outputs": [],
   "source": [
    "df.to_csv('data.csv', index=False)"
   ]
  }
 ],
 "metadata": {
  "kernelspec": {
   "display_name": "Python 3 (ipykernel)",
   "language": "python",
   "name": "python3"
  },
  "language_info": {
   "codemirror_mode": {
    "name": "ipython",
    "version": 3
   },
   "file_extension": ".py",
   "mimetype": "text/x-python",
   "name": "python",
   "nbconvert_exporter": "python",
   "pygments_lexer": "ipython3",
   "version": "3.9.7"
  }
 },
 "nbformat": 4,
 "nbformat_minor": 5
}
