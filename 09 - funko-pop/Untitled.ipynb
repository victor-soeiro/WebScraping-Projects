{
 "cells": [
  {
   "cell_type": "markdown",
   "id": "137568a5-3b78-44a8-b5ed-76148a6c5cf2",
   "metadata": {},
   "source": [
    "## **Funko Pop - Web Scraping Project**"
   ]
  },
  {
   "cell_type": "markdown",
   "id": "33ecd6ec-a320-4199-9519-7745040872c5",
   "metadata": {},
   "source": [
    "### **Introduction**"
   ]
  },
  {
   "cell_type": "markdown",
   "id": "c90672e9-5d78-4dcb-9058-cb7c4aaeb2e8",
   "metadata": {},
   "source": [
    "> **If you wanna replicate, maybe you need to install some of the packages with PIP command.**"
   ]
  },
  {
   "cell_type": "markdown",
   "id": "50193401-a908-4c06-9332-ac7a9aa0427d",
   "metadata": {},
   "source": [
    "### **Libraries**"
   ]
  },
  {
   "cell_type": "code",
   "execution_count": 1,
   "id": "e3841e13-c33b-421b-b740-27039e176edb",
   "metadata": {},
   "outputs": [],
   "source": [
    "import json\n",
    "import math\n",
    "import requests\n",
    "import pandas as pd\n",
    "\n",
    "from tqdm.notebook import tqdm"
   ]
  },
  {
   "cell_type": "markdown",
   "id": "857795e6-544e-4a71-ad1c-3152395a3817",
   "metadata": {},
   "source": [
    "### **Verifying Request and Defining Variables**"
   ]
  },
  {
   "cell_type": "markdown",
   "id": "1131494d-3052-47a0-b408-b60c75e65846",
   "metadata": {},
   "source": [
    "Their API uses only one endpoint to get the queries. Let's define the URL!"
   ]
  },
  {
   "cell_type": "code",
   "execution_count": 2,
   "id": "462da3b2-aaac-49d4-b58a-a170bc5a9e33",
   "metadata": {},
   "outputs": [],
   "source": [
    "url = 'https://www.funko.com/api/search/template'"
   ]
  },
  {
   "cell_type": "markdown",
   "id": "64866404-610e-492b-af6e-bd3970b35c20",
   "metadata": {},
   "source": [
    "Differently from the Just Watch project, this uses a post request to get the data. \n",
    "\n",
    "The *collection* key value was collected checking the requests from the website, but it's apparently doesn't make any greater difference for this project."
   ]
  },
  {
   "cell_type": "code",
   "execution_count": 3,
   "id": "936b94f0-d19b-4e3c-8e6d-683fbec16be7",
   "metadata": {},
   "outputs": [],
   "source": [
    "post_data = {\n",
    "    'collection': '241066344637',\n",
    "    'page': 1,\n",
    "    'pageCount': 50,\n",
    "    'type': 'shop',\n",
    "    'sort': {\n",
    "        'title': 'asc'\n",
    "    }\n",
    "}"
   ]
  },
  {
   "cell_type": "markdown",
   "id": "3f0dfca2-9b8c-4141-9731-e0421bc2a816",
   "metadata": {},
   "source": [
    "To get the data through post request we need to specify which content type we want to receive. \n",
    "\n",
    "Let's create our request headers!"
   ]
  },
  {
   "cell_type": "code",
   "execution_count": 4,
   "id": "ce7a070b-20f1-405b-bca7-9ba4b8bcbe86",
   "metadata": {},
   "outputs": [],
   "source": [
    "headers = {\n",
    "    'content-type': 'application/json', \n",
    "}"
   ]
  },
  {
   "cell_type": "markdown",
   "id": "2e7450c1-9299-4651-914a-c6654dd13a15",
   "metadata": {},
   "source": [
    "Now, let's check if the request is working!"
   ]
  },
  {
   "cell_type": "code",
   "execution_count": 5,
   "id": "1afaa6c1-2f09-439d-a4f0-176ef346a62e",
   "metadata": {},
   "outputs": [
    {
     "data": {
      "text/plain": [
       "200"
      ]
     },
     "execution_count": 5,
     "metadata": {},
     "output_type": "execute_result"
    }
   ],
   "source": [
    "req = requests.post(url, data=json.dumps(post_data), headers=headers)\n",
    "req.status_code"
   ]
  },
  {
   "cell_type": "markdown",
   "id": "0477cd07-669d-4015-9397-eda2003be25a",
   "metadata": {},
   "source": [
    "Great! And now the total number of results!"
   ]
  },
  {
   "cell_type": "code",
   "execution_count": 6,
   "id": "6f9756b0-0a28-4c19-98b5-cd5f941d85b8",
   "metadata": {
    "tags": []
   },
   "outputs": [
    {
     "data": {
      "text/plain": [
       "1482"
      ]
     },
     "execution_count": 6,
     "metadata": {},
     "output_type": "execute_result"
    }
   ],
   "source": [
    "total = req.json()['total']\n",
    "total"
   ]
  },
  {
   "cell_type": "markdown",
   "id": "981a6aa9-f47f-49fd-829c-441ab33ec500",
   "metadata": {},
   "source": [
    "The API works with a page system, so let's calculate how many pages there are!"
   ]
  },
  {
   "cell_type": "code",
   "execution_count": 7,
   "id": "a4d0a17c-7d19-4ca8-8b7c-2b249cf0e160",
   "metadata": {},
   "outputs": [
    {
     "data": {
      "text/plain": [
       "30"
      ]
     },
     "execution_count": 7,
     "metadata": {},
     "output_type": "execute_result"
    }
   ],
   "source": [
    "n_requests = math.ceil(total/post_data['pageCount'])\n",
    "n_requests"
   ]
  },
  {
   "cell_type": "markdown",
   "id": "2d9dec5e-af9f-4302-a41f-0a9a8617bd12",
   "metadata": {},
   "source": [
    "### **Scraping**"
   ]
  },
  {
   "cell_type": "markdown",
   "id": "ddc44676-a627-468c-b337-c4e54eae6bfa",
   "metadata": {},
   "source": [
    "The retrieved data from the API contains many unuseful information. We need to encapsulate in a function the data collection of each item!"
   ]
  },
  {
   "cell_type": "code",
   "execution_count": 8,
   "id": "56620a33-1449-4273-a287-775257ca7281",
   "metadata": {},
   "outputs": [],
   "source": [
    "def get_item_data(data: dict) -> dict:\n",
    "    item_data = {\n",
    "        'uid': data['uid'],\n",
    "        'title': data['title'],\n",
    "        'product_type': data['productType'],\n",
    "        'price': data['price'],\n",
    "        'interest': data['interest'],\n",
    "        'license': data['license'],\n",
    "        'tags': data['tags'],\n",
    "        'vendor': data['vendor'],\n",
    "        'form_factor': data['formFactor'],\n",
    "        'feature': data['feature'],\n",
    "        'related': data['relatedProducts'],\n",
    "        'description': data['description'],\n",
    "        'gid': data['gid'],\n",
    "        'created_at': data['createdAt'],\n",
    "        'published_at': data['publishedAt'],\n",
    "        'updated_at': data['updatedAt'],\n",
    "        'handle': data['handle'],\n",
    "        'img': data['media'][0]['src']\n",
    "    }\n",
    "    \n",
    "    return item_data\n",
    "    "
   ]
  },
  {
   "cell_type": "markdown",
   "id": "b02b7b7d-071b-4eba-9723-283d734db451",
   "metadata": {},
   "source": [
    "Good. Let's collect all the data!"
   ]
  },
  {
   "cell_type": "code",
   "execution_count": 9,
   "id": "7970480b-a843-47e1-a34d-c2c6b5e54bf3",
   "metadata": {},
   "outputs": [
    {
     "data": {
      "application/vnd.jupyter.widget-view+json": {
       "model_id": "6ab5795b2e1f44caa1746765301d252e",
       "version_major": 2,
       "version_minor": 0
      },
      "text/plain": [
       "  0%|          | 0/30 [00:00<?, ?it/s]"
      ]
     },
     "metadata": {},
     "output_type": "display_data"
    }
   ],
   "source": [
    "data = []\n",
    "\n",
    "for i in tqdm(range(n_requests)):\n",
    "    page = i + 1\n",
    "    post_data['page'] = page\n",
    "    req = requests.post(url, data=json.dumps(post_data), headers=headers)\n",
    "    if req.status_code != 200:\n",
    "        raise requests.ConnectionError('Connection Error')\n",
    "    \n",
    "    page_data = req.json()['hits']\n",
    "    for item in page_data:\n",
    "        data.append(get_item_data(item))"
   ]
  },
  {
   "cell_type": "markdown",
   "id": "b5d39846-1432-47c8-a256-032c46903e53",
   "metadata": {},
   "source": [
    "Checking the total number of items collected."
   ]
  },
  {
   "cell_type": "code",
   "execution_count": 10,
   "id": "047fa8c6-6a41-4894-83c2-aa7a618e87ff",
   "metadata": {},
   "outputs": [
    {
     "data": {
      "text/plain": [
       "1482"
      ]
     },
     "execution_count": 10,
     "metadata": {},
     "output_type": "execute_result"
    }
   ],
   "source": [
    "len(data)"
   ]
  },
  {
   "cell_type": "markdown",
   "id": "8a2188fa-05df-46c0-945b-74c0ef2ffe81",
   "metadata": {},
   "source": [
    "Great!! Let's visualize it and save!"
   ]
  },
  {
   "cell_type": "code",
   "execution_count": 11,
   "id": "3f5fcbfb-8d22-45fc-a924-9e3e24191a41",
   "metadata": {},
   "outputs": [
    {
     "data": {
      "text/html": [
       "<div>\n",
       "<style scoped>\n",
       "    .dataframe tbody tr th:only-of-type {\n",
       "        vertical-align: middle;\n",
       "    }\n",
       "\n",
       "    .dataframe tbody tr th {\n",
       "        vertical-align: top;\n",
       "    }\n",
       "\n",
       "    .dataframe thead th {\n",
       "        text-align: right;\n",
       "    }\n",
       "</style>\n",
       "<table border=\"1\" class=\"dataframe\">\n",
       "  <thead>\n",
       "    <tr style=\"text-align: right;\">\n",
       "      <th></th>\n",
       "      <th>uid</th>\n",
       "      <th>title</th>\n",
       "      <th>product_type</th>\n",
       "      <th>price</th>\n",
       "      <th>interest</th>\n",
       "      <th>license</th>\n",
       "      <th>tags</th>\n",
       "      <th>vendor</th>\n",
       "      <th>form_factor</th>\n",
       "      <th>feature</th>\n",
       "      <th>related</th>\n",
       "      <th>description</th>\n",
       "      <th>gid</th>\n",
       "      <th>created_at</th>\n",
       "      <th>published_at</th>\n",
       "      <th>updated_at</th>\n",
       "      <th>handle</th>\n",
       "      <th>img</th>\n",
       "    </tr>\n",
       "  </thead>\n",
       "  <tbody>\n",
       "    <tr>\n",
       "      <th>0</th>\n",
       "      <td>7051374362813</td>\n",
       "      <td>\"It's Crunch Time \" Kids Tee - General Mills</td>\n",
       "      <td>Apparel</td>\n",
       "      <td>7.0</td>\n",
       "      <td>[Ad Icons]</td>\n",
       "      <td>[General Mills]</td>\n",
       "      <td>[Apparel, Cereal Day, Kids Tee, Markdown Item,...</td>\n",
       "      <td>Funko Pop Up Shop</td>\n",
       "      <td>[]</td>\n",
       "      <td>[]</td>\n",
       "      <td>[7051374788797, 7051374854333, 7051374723261, ...</td>\n",
       "      <td>&lt;p&gt;\"It's Crunch Time\" with the Count Chocula P...</td>\n",
       "      <td>gid://shopify/Product/7051374362813</td>\n",
       "      <td>2021-10-29T00:02:52-00:00</td>\n",
       "      <td>2021-10-29T16:30:00-00:00</td>\n",
       "      <td>2022-05-23T16:50:36-00:00</td>\n",
       "      <td>ad-icons-general-mills-its-crunch-time-kids-bl...</td>\n",
       "      <td>https://cdn.shopify.com/s/files/1/1052/2158/pr...</td>\n",
       "    </tr>\n",
       "    <tr>\n",
       "      <th>1</th>\n",
       "      <td>7231381405885</td>\n",
       "      <td>\"This is the Way\" Kids Tee - The Mandalorian</td>\n",
       "      <td>Apparel</td>\n",
       "      <td>10.0</td>\n",
       "      <td>[Star Wars]</td>\n",
       "      <td>[Star Wars]</td>\n",
       "      <td>[Apparel, Kids Tee, May the 4th, May the 4th B...</td>\n",
       "      <td>Funko Shop</td>\n",
       "      <td>[]</td>\n",
       "      <td>[]</td>\n",
       "      <td>[7254814130365, 7254814064829, 4491928240194, ...</td>\n",
       "      <td>&lt;p&gt;Celebrate May the Fourth in stellar style w...</td>\n",
       "      <td>gid://shopify/Product/7231381405885</td>\n",
       "      <td>2022-05-03T20:57:34-00:00</td>\n",
       "      <td>2022-05-04T15:30:00-00:00</td>\n",
       "      <td>2022-05-27T13:25:49-00:00</td>\n",
       "      <td>star-wars-this-is-the-way-kids-purple-tee</td>\n",
       "      <td>https://cdn.shopify.com/s/files/1/1052/2158/pr...</td>\n",
       "    </tr>\n",
       "    <tr>\n",
       "      <th>2</th>\n",
       "      <td>7231381536957</td>\n",
       "      <td>\"This is the Way\" Neon Blast Kids Tee - The Ma...</td>\n",
       "      <td>Apparel</td>\n",
       "      <td>10.0</td>\n",
       "      <td>[Star Wars]</td>\n",
       "      <td>[Star Wars]</td>\n",
       "      <td>[Apparel, May the 4th, May the 4th Be With You...</td>\n",
       "      <td>Funko Shop</td>\n",
       "      <td>[]</td>\n",
       "      <td>[]</td>\n",
       "      <td>[7254814130365, 7254814064829, 4491928240194, ...</td>\n",
       "      <td>&lt;p&gt;Celebrate May the Fourth in stellar style w...</td>\n",
       "      <td>gid://shopify/Product/7231381536957</td>\n",
       "      <td>2022-05-03T20:57:40-00:00</td>\n",
       "      <td>2022-05-04T15:30:01-00:00</td>\n",
       "      <td>2022-05-29T18:15:32-00:00</td>\n",
       "      <td>star-wars-the-mandalorian-this-is-the-way-kids...</td>\n",
       "      <td>https://cdn.shopify.com/s/files/1/1052/2158/pr...</td>\n",
       "    </tr>\n",
       "    <tr>\n",
       "      <th>3</th>\n",
       "      <td>7051374395581</td>\n",
       "      <td>\"Time for a Midnight Bite\" Tee - General Mills</td>\n",
       "      <td>Apparel</td>\n",
       "      <td>14.0</td>\n",
       "      <td>[Ad Icons]</td>\n",
       "      <td>[General Mills]</td>\n",
       "      <td>[Apparel, Cereal Day, Markdown Item, Sale, T-S...</td>\n",
       "      <td>Funko Pop Up Shop</td>\n",
       "      <td>[]</td>\n",
       "      <td>[]</td>\n",
       "      <td>[7051374788797, 7051374854333, 7051374723261, ...</td>\n",
       "      <td>&lt;p&gt;Like the Pop! Tee says, it's \"Time for a Mi...</td>\n",
       "      <td>gid://shopify/Product/7051374395581</td>\n",
       "      <td>2021-10-29T00:02:57-00:00</td>\n",
       "      <td>2021-10-29T16:30:01-00:00</td>\n",
       "      <td>2022-05-26T04:04:45-00:00</td>\n",
       "      <td>ad-icons-general-mills-midnight-bite-black-tee</td>\n",
       "      <td>https://cdn.shopify.com/s/files/1/1052/2158/pr...</td>\n",
       "    </tr>\n",
       "    <tr>\n",
       "      <th>4</th>\n",
       "      <td>7231381668029</td>\n",
       "      <td>\"Where He Goes, I Go\" Grogu Kids Tee - The Man...</td>\n",
       "      <td>Apparel</td>\n",
       "      <td>10.0</td>\n",
       "      <td>[Star Wars]</td>\n",
       "      <td>[Star Wars]</td>\n",
       "      <td>[Apparel, May the 4th, May the 4th Be With You...</td>\n",
       "      <td>Funko Shop</td>\n",
       "      <td>[]</td>\n",
       "      <td>[]</td>\n",
       "      <td>[7254814130365, 7254814064829, 4491928240194, ...</td>\n",
       "      <td>&lt;p&gt;Celebrate May the Fourth in stellar style w...</td>\n",
       "      <td>gid://shopify/Product/7231381668029</td>\n",
       "      <td>2022-05-03T20:57:45-00:00</td>\n",
       "      <td>2022-05-04T15:30:02-00:00</td>\n",
       "      <td>2022-05-30T02:40:26-00:00</td>\n",
       "      <td>star-wars-where-he-goes-i-go-grogu-kids-tee</td>\n",
       "      <td>https://cdn.shopify.com/s/files/1/1052/2158/pr...</td>\n",
       "    </tr>\n",
       "  </tbody>\n",
       "</table>\n",
       "</div>"
      ],
      "text/plain": [
       "             uid                                              title  \\\n",
       "0  7051374362813       \"It's Crunch Time \" Kids Tee - General Mills   \n",
       "1  7231381405885       \"This is the Way\" Kids Tee - The Mandalorian   \n",
       "2  7231381536957  \"This is the Way\" Neon Blast Kids Tee - The Ma...   \n",
       "3  7051374395581     \"Time for a Midnight Bite\" Tee - General Mills   \n",
       "4  7231381668029  \"Where He Goes, I Go\" Grogu Kids Tee - The Man...   \n",
       "\n",
       "  product_type  price     interest          license  \\\n",
       "0      Apparel    7.0   [Ad Icons]  [General Mills]   \n",
       "1      Apparel   10.0  [Star Wars]      [Star Wars]   \n",
       "2      Apparel   10.0  [Star Wars]      [Star Wars]   \n",
       "3      Apparel   14.0   [Ad Icons]  [General Mills]   \n",
       "4      Apparel   10.0  [Star Wars]      [Star Wars]   \n",
       "\n",
       "                                                tags             vendor  \\\n",
       "0  [Apparel, Cereal Day, Kids Tee, Markdown Item,...  Funko Pop Up Shop   \n",
       "1  [Apparel, Kids Tee, May the 4th, May the 4th B...         Funko Shop   \n",
       "2  [Apparel, May the 4th, May the 4th Be With You...         Funko Shop   \n",
       "3  [Apparel, Cereal Day, Markdown Item, Sale, T-S...  Funko Pop Up Shop   \n",
       "4  [Apparel, May the 4th, May the 4th Be With You...         Funko Shop   \n",
       "\n",
       "  form_factor feature                                            related  \\\n",
       "0          []      []  [7051374788797, 7051374854333, 7051374723261, ...   \n",
       "1          []      []  [7254814130365, 7254814064829, 4491928240194, ...   \n",
       "2          []      []  [7254814130365, 7254814064829, 4491928240194, ...   \n",
       "3          []      []  [7051374788797, 7051374854333, 7051374723261, ...   \n",
       "4          []      []  [7254814130365, 7254814064829, 4491928240194, ...   \n",
       "\n",
       "                                         description  \\\n",
       "0  <p>\"It's Crunch Time\" with the Count Chocula P...   \n",
       "1  <p>Celebrate May the Fourth in stellar style w...   \n",
       "2  <p>Celebrate May the Fourth in stellar style w...   \n",
       "3  <p>Like the Pop! Tee says, it's \"Time for a Mi...   \n",
       "4  <p>Celebrate May the Fourth in stellar style w...   \n",
       "\n",
       "                                   gid                 created_at  \\\n",
       "0  gid://shopify/Product/7051374362813  2021-10-29T00:02:52-00:00   \n",
       "1  gid://shopify/Product/7231381405885  2022-05-03T20:57:34-00:00   \n",
       "2  gid://shopify/Product/7231381536957  2022-05-03T20:57:40-00:00   \n",
       "3  gid://shopify/Product/7051374395581  2021-10-29T00:02:57-00:00   \n",
       "4  gid://shopify/Product/7231381668029  2022-05-03T20:57:45-00:00   \n",
       "\n",
       "                published_at                 updated_at  \\\n",
       "0  2021-10-29T16:30:00-00:00  2022-05-23T16:50:36-00:00   \n",
       "1  2022-05-04T15:30:00-00:00  2022-05-27T13:25:49-00:00   \n",
       "2  2022-05-04T15:30:01-00:00  2022-05-29T18:15:32-00:00   \n",
       "3  2021-10-29T16:30:01-00:00  2022-05-26T04:04:45-00:00   \n",
       "4  2022-05-04T15:30:02-00:00  2022-05-30T02:40:26-00:00   \n",
       "\n",
       "                                              handle  \\\n",
       "0  ad-icons-general-mills-its-crunch-time-kids-bl...   \n",
       "1          star-wars-this-is-the-way-kids-purple-tee   \n",
       "2  star-wars-the-mandalorian-this-is-the-way-kids...   \n",
       "3     ad-icons-general-mills-midnight-bite-black-tee   \n",
       "4        star-wars-where-he-goes-i-go-grogu-kids-tee   \n",
       "\n",
       "                                                 img  \n",
       "0  https://cdn.shopify.com/s/files/1/1052/2158/pr...  \n",
       "1  https://cdn.shopify.com/s/files/1/1052/2158/pr...  \n",
       "2  https://cdn.shopify.com/s/files/1/1052/2158/pr...  \n",
       "3  https://cdn.shopify.com/s/files/1/1052/2158/pr...  \n",
       "4  https://cdn.shopify.com/s/files/1/1052/2158/pr...  "
      ]
     },
     "execution_count": 11,
     "metadata": {},
     "output_type": "execute_result"
    }
   ],
   "source": [
    "df = pd.DataFrame(data)\n",
    "df.head()"
   ]
  },
  {
   "cell_type": "code",
   "execution_count": 12,
   "id": "729a5429-8631-4035-91be-ccf6fb18b83e",
   "metadata": {},
   "outputs": [],
   "source": [
    "df.to_csv('data.csv', index=False)"
   ]
  }
 ],
 "metadata": {
  "kernelspec": {
   "display_name": "Python 3 (ipykernel)",
   "language": "python",
   "name": "python3"
  },
  "language_info": {
   "codemirror_mode": {
    "name": "ipython",
    "version": 3
   },
   "file_extension": ".py",
   "mimetype": "text/x-python",
   "name": "python",
   "nbconvert_exporter": "python",
   "pygments_lexer": "ipython3",
   "version": "3.9.7"
  }
 },
 "nbformat": 4,
 "nbformat_minor": 5
}
