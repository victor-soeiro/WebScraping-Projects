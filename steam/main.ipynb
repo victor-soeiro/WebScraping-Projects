{
 "cells": [
  {
   "cell_type": "code",
   "execution_count": 1,
   "id": "b3e36307-80e2-4c7c-a8c2-b27653acac84",
   "metadata": {},
   "outputs": [],
   "source": [
    "import requests\n",
    "from bs4 import BeautifulSoup"
   ]
  },
  {
   "cell_type": "code",
   "execution_count": 2,
   "id": "cd136ecf-7bcc-4001-8c18-3bee8df51250",
   "metadata": {},
   "outputs": [],
   "source": [
    "url = 'https://steamdb.info/apps/page{}/'"
   ]
  },
  {
   "cell_type": "code",
   "execution_count": 15,
   "id": "d086856a-c345-4dbd-984b-152cdadff009",
   "metadata": {},
   "outputs": [],
   "source": [
    "headers = {\n",
    "    \"user-agent\": \"Mozilla/5.0 (Windows NT 10.0; Win64; x64) AppleWebKit/537.36 (KHTML, like Gecko) Chrome/101.0.4951.41 Safari/537.36 Edg/101.0.1210.32\",\n",
    "    'accept-encoding': 'gzip, deflate, br',\n",
    "    'accept-language': 'pt-BR,pt;q=0.9,en;q=0.8,en-GB;q=0.7,en-US;q=0.6',\n",
    "    'referer': 'https://steamdb.info/',\n",
    "    'cookie': '__Host-steamdb=0%3B3875264%3B96b066b830263c10e64f53566a4aa3fd13214f70; __Host-cc=ar; cf_chl_2=fad3a9fa26e234c; cf_chl_prog=x12; cf_clearance=Eve2n.HFHigF1BPHip2bgrKc4YPJFareTsRTne63Wg4-1657425143-0-150'\n",
    "}"
   ]
  },
  {
   "cell_type": "code",
   "execution_count": 12,
   "id": "bb0a2255-73c3-4e23-a2cd-c8b3cca503f9",
   "metadata": {},
   "outputs": [],
   "source": [
    "session = requests.Session()"
   ]
  },
  {
   "cell_type": "code",
   "execution_count": 16,
   "id": "4fee1fe8-709f-4816-b0d3-c90574f59fb0",
   "metadata": {},
   "outputs": [
    {
     "data": {
      "text/plain": [
       "403"
      ]
     },
     "execution_count": 16,
     "metadata": {},
     "output_type": "execute_result"
    }
   ],
   "source": [
    "req = session.get(url.format('1'), headers=headers)\n",
    "req.status_code"
   ]
  },
  {
   "cell_type": "code",
   "execution_count": 17,
   "id": "937d9248-6347-4e26-b398-6ba8957422a2",
   "metadata": {},
   "outputs": [
    {
     "name": "stdout",
     "output_type": "stream",
     "text": [
      "<!doctype html>\n",
      "<html lang=\"en\">\n",
      "<head>\n",
      "\t<meta charset=\"UTF-8\">\n",
      "\t<meta name=\"viewport\" content=\"width=device-width, initial-scale=1.0\">\n",
      "\t<title>SteamDB</title>\n",
      "\t<style>:root{-moz-tab-size:4;tab-size:4;--navbar-height:48px;--body-bg-color:#161920;--body-color:#ddd;--contrast-color:#fff;--muted-bg-color:#213145;--muted-color:#999;--border-color:hsl(216deg 25% 30%);--border-color-2:hsl(216deg 25% 16%);--link-color:#00aff4;--link-color-hover:#0095ff;--bg-green:#030;--bg-blue:#00174d;--state-text-color:#111;--state-owned:89 185 70;--state-wished:102 148 255;--state-followed:211 222 234;--state-cart:247 203 8;--state-ignored:191 191 191;--tooltip-bg:rgb(255 255 255/80%);--tooltip-green:#577c27;color-scheme:dark;scrollbar-color:var(--border-color) var(--body-bg-color)}html{overflow-y:scroll;box-sizing:border-box}*,:after,:before{box-sizing:inherit}body{font:14px/20px Inter,-apple-system,Segoe UI,Roboto,Helvetica Neue,Arial,sans-serif,Apple Color Emoji,Segoe UI Emoji,Segoe UI Symbol;color:var(--body-color);background-color:var(--body-bg-color)}body,html{height:100%}iframe{border:0;overflow:hidden;background-color:transparent;color-scheme:light}a{color:var(--link-color);text-decoration:none}a:hover{color:var(--link-color-hover);text-decoration:underline}hr{height:1px;margin:15px 0;overflow:hidden;background:var(--border-color);padding:0;border:0}blockquote{margin:0}img{vertical-align:middle}.container{width:960px;padding-left:10px;padding-right:10px;margin-right:auto;margin-left:auto}.row{display:flex;flex:0 1 auto;flex-flow:row wrap;margin-left:-20px}.row>[class*=span]{min-height:1px;margin-left:20px}.span12{width:940px}.span11{width:860px}.span10{width:780px}.span9{width:700px}.span8{width:620px}.span7{width:540px}.span6{width:460px}.span5{width:380px}.span4{width:300px}.span3{width:220px}.span2{width:140px}.span1{width:60px}@media (max-width:980px){.container{width:auto}.row{flex-direction:column}.row,.row>[class*=span],[class*=span]{width:100%;margin-left:0}}html{overflow-y:auto}body{--body-bg-color:#1b1d2a;--body-color:#fff;--link-color:#0095ff;text-align:center;font-size:16px;margin:0;padding:20px}body.centered{display:flex;flex-direction:column}.container{margin:auto}.header{padding:20px}.header>h1{line-height:1.2;font-weight:400;max-width:unset;margin:0}.muted-banner{padding:15px;background-color:var(--muted-bg-color);border-radius:6px}.muted{color:var(--muted-color)}[data-translate]{color:inherit!important}.cf-error{margin-bottom:20px;text-align:left}.cf-error h1{margin:0;font-weight:400}.cf-error h3{margin-bottom:0}.cf-error ul{color:#999}#cf_alert_div{top:0!important}</style>\n",
      "\t<meta name=\"theme-color\" content=\"#1B2838\">\n",
      "\t<link rel=\"icon\" type=\"image/svg+xml\" href=\"data:image/svg+xml,%3Csvg xmlns='http://www.w3.org/2000/svg' viewBox='0 0 16 16'%3E%3Cstyle%3E path %7B fill: %23000; %7D @media (prefers-color-scheme: dark) %7B path %7B fill: %23FFF; %7D %7D %3C/style%3E%3Cpath d='M7.982 0C3.807 0 .383 1.49.015 3.393l4.446.842c.36-.107.777-.164 1.198-.167l2.09-1.252c-.024-.313.168-.632.589-.905.597-.387 1.534-.598 2.487-.606a5.662 5.662 0 011.876.274c1.396.47 1.717 1.387.71 2.038-.637.413-1.659.624-2.677.604l-2.752.981c-.024.196-.165.39-.428.56-.739.48-2.177.588-3.202.243-.453-.152-.751-.37-.879-.606L.316 4.802c.287.448.749.86 1.348 1.22C.62 6.621 0 7.373 0 8.188c0 .8.598 1.538 1.606 2.131C.597 10.914 0 11.655 0 12.456 0 14.413 3.579 16 7.998 16 12.417 16 16 14.413 16 12.456c0-.8-.598-1.542-1.607-2.136C15.402 9.727 16 8.989 16 8.19c0-.82-.628-1.577-1.68-2.178 1.042-.63 1.664-1.42 1.664-2.279C15.984 1.671 12.401 0 7.982 0zm2.856 1.774c-.644.013-1.273.146-1.681.41-.688.445-.476 1.06.478 1.382.954.32 2.269.22 2.956-.226.688-.445.476-1.058-.478-1.379a3.971 3.971 0 00-1.275-.187zm.036.213c.92 0 1.663.349 1.663.778 0 .428-.744.775-1.663.775-.92 0-1.662-.347-1.662-.775 0-.429.743-.778 1.662-.778zM5.659 4.3c-.198.014-.393.02-.578.052l1.138.214a1.345.628 0 11-1.011 1.162l-1.107-.21c.125.113.305.216.543.296.803.27 1.92.186 2.5-.19.58-.374.398-.893-.406-1.164A3.38 3.38 0 005.66 4.3zm7.967 2.08v1.16c0 1.377-2.52 2.49-5.628 2.49S2.374 8.917 2.374 7.54V6.394c1.443.663 3.422 1.073 5.608 1.073 2.202 0 4.197-.416 5.644-1.088zm0 4.328v1.099c0 1.376-2.52 2.49-5.628 2.49s-5.624-1.114-5.624-2.49v-1.098c1.444.633 3.43 1.024 5.624 1.024 2.194 0 4.182-.391 5.628-1.025z'/%3E%3C/svg%3E%0A\">\n",
      "\t<style>h1{color:#66c0f4;font-size:24px;line-height:1.2}</style>\n",
      "    <script>\n",
      "    //<![CDATA[\n",
      "    (function(){\n",
      "      window._cf_chl_opt={\n",
      "        cvId: \"2\",\n",
      "        cType: \"managed\",\n",
      "        cNounce: \"14773\",\n",
      "        cRay: \"7286897a5c004b35\",\n",
      "        cHash: \"5f7c6eb49dac327\",\n",
      "        cUPMDTk: \"\\/apps\\/page1\\/?__cf_chl_tk=9a0OUtllpSKDZfj.cIOWraCvvkzhSviuEBRVmATeD5U-1657427142-0-gaNycGzNCOU\",\n",
      "        cFPWv: \"g\",\n",
      "        cTTimeMs: \"1000\",\n",
      "        cLt: \"n\",\n",
      "        cRq: {\n",
      "          ru: \"aHR0cHM6Ly9zdGVhbWRiLmluZm8vYXBwcy9wYWdlMS8=\",\n",
      "          ra: \"TW96aWxsYS81LjAgKFdpbmRvd3MgTlQgMTAuMDsgV2luNjQ7IHg2NCkgQXBwbGVXZWJLaXQvNTM3LjM2IChLSFRNTCwgbGlrZSBHZWNrbykgQ2hyb21lLzEwMS4wLjQ5NTEuNDEgU2FmYXJpLzUzNy4zNiBFZGcvMTAxLjAuMTIxMC4zMg==\",\n",
      "          rm: \"R0VU\",\n",
      "          d: \"oS/bW4+jyouYmve212fUaLFubiQBmOH5aipecTR7MhBnYYJM82HELZx+ZXZpfGntvGzPiFgyBmU9z+edS6zrlsT2+q/DnWafNXsSeOWX6R2qM0wGYoqAaVrqFQltPDT8hvjL+vfuhr7tRpLxNX6vwZ+tbTJ0X8ZfJrdkcLZUffPdq2d/Ye5E3oVoALeffBs35niD/8oel1Wv6CDMAp7sCAdVB1cnxa+L9dzIHcbgsDrOk/agP4PRhU7lSCLtjldBfe8TxVMKLwkVG8fH5TAJ2zU2xYwKnUfrZzwkudJCByKq0pXRYzk6ZwoEKPO/XNUDT5t+mMAewazU9bKV8NRGVf+T70TU1L0R+od3aSaqbTriJr8RLyt1/1CZpGSYsxfsrhiSP6XxWgVul9VbrC0uBygZNQN3L4F8TtQH+5OtmL6ymz5ELL3kJwYx5SnBt21y2YcnRDsr5AR/SLk/VguGBJy4wg9R3/l8RRJrBq1LJDYlzg0vVcMvcgDucmBf/EfM9Fhoef3/7V+jhHT8hsNMcguziQk5reFyEEDrDWWDk8YfqfLiHkToXF3OtN+UcfVTo1kbppLKU8fCavMj0jhohLv0IJXfdLcx26wHJK+bvkmUfAwY9XppEsohdBpWHM7TbM+NOxWDNhVxAJgPuK0c2w==\",\n",
      "          t: \"MTY1NzQyNzE0Mi43NzkwMDA=\",\n",
      "          m: \"O20c4FMHmBxdA5V0d21LvxW/VynX6KLxZucJviiiVnU=\",\n",
      "          i1: \"Z2FQH+iB3hnbujxU8xB/Dw==\",\n",
      "          i2: \"UBPln0rdWMJvR1pM3e6WIQ==\",\n",
      "          zh: \"c2ZD/PRHoroBFFVoUJro2AmmPE6OwrhzNFsbuhwBTJU=\",\n",
      "          uh: \"N36QPXIglKZyZNQG+oVAiHO9leXsY0xnD/E09It2iVc=\",\n",
      "          hh: \"5802itk7QOR8UD9tG13fRIrMtN16OioE2c2bXRYFkA8=\",\n",
      "        }\n",
      "      };\n",
      "    }());\n",
      "    //]]>\n",
      "    </script>\n",
      "\n",
      "</head>\n",
      "<body>\n",
      "\t<div class=\"container\">\n",
      "\t\t<svg version=\"1.1\" width=\"128\" height=\"128\" viewBox=\"0 0 128 128\" aria-hidden=\"true\"><path fill=\"#fff\" fill-rule=\"evenodd\" d=\"M63.9 0C30.5 0 3.1 11.9.1 27.1l35.6 6.7c2.9-.9 6.2-1.3 9.6-1.3l16.7-10c-.2-2.5 1.3-5.1 4.7-7.2 4.8-3.1 12.3-4.8 19.9-4.8 5.2-.1 10.5.7 15 2.2 11.2 3.8 13.7 11.1 5.7 16.3-5.1 3.3-13.3 5-21.4 4.8l-22 7.9c-.2 1.6-1.3 3.1-3.4 4.5-5.9 3.8-17.4 4.7-25.6 1.9-3.6-1.2-6-3-7-4.8L2.5 38.4c2.3 3.6 6 6.9 10.8 9.8C5 53 0 59 0 65.5c0 6.4 4.8 12.3 12.9 17.1C4.8 87.3 0 93.2 0 99.6 0 115.3 28.6 128 64 128c35.3 0 64-12.7 64-28.4 0-6.4-4.8-12.3-12.9-17 8.1-4.8 12.9-10.7 12.9-17.1 0-6.5-5-12.6-13.4-17.4 8.3-5.1 13.3-11.4 13.3-18.2 0-16.5-28.7-29.9-64-29.9zm22.8 14.2c-5.2.1-10.2 1.2-13.4 3.3-5.5 3.6-3.8 8.5 3.8 11.1 7.6 2.6 18.1 1.8 23.6-1.8s3.8-8.5-3.8-11c-3.1-1-6.7-1.5-10.2-1.5zm.3 1.7c7.4 0 13.3 2.8 13.3 6.2 0 3.4-5.9 6.2-13.3 6.2s-13.3-2.8-13.3-6.2c0-3.4 5.9-6.2 13.3-6.2zM45.3 34.4c-1.6.1-3.1.2-4.6.4l9.1 1.7a10.8 5 0 1 1-8.1 9.3l-8.9-1.7c1 .9 2.4 1.7 4.3 2.4 6.4 2.2 15.4 1.5 20-1.5s3.2-7.2-3.2-9.3c-2.6-.9-5.7-1.3-8.6-1.3zM109 51v9.3c0 11-20.2 19.9-45 19.9-24.9 0-45-8.9-45-19.9v-9.2c11.5 5.3 27.4 8.6 44.9 8.6 17.6 0 33.6-3.3 45.2-8.7zm0 34.6v8.8c0 11-20.2 19.9-45 19.9-24.9 0-45-8.9-45-19.9v-8.8c11.6 5.1 27.4 8.2 45 8.2s33.5-3.1 45-8.2z\"></path></svg>\n",
      "\t\t<h1>Please complete the security check to access SteamDB</h1>\n",
      "\t\t<div class=\"muted-banner\"><form class=\"challenge-form managed-form\" id=\"challenge-form\" action=\"/apps/page1/?__cf_chl_f_tk=9a0OUtllpSKDZfj.cIOWraCvvkzhSviuEBRVmATeD5U-1657427142-0-gaNycGzNCOU\" method=\"POST\" enctype=\"application/x-www-form-urlencoded\">\n",
      "    <div id='cf-please-wait'>\n",
      "      <div id='spinner'>\n",
      "        <div id=\"cf-bubbles\">\n",
      "            <div class=\"bubbles\"></div>\n",
      "            <div class=\"bubbles\"></div>\n",
      "            <div class=\"bubbles\"></div>\n",
      "        </div>\n",
      "      </div>\n",
      "      <p data-translate=\"please_wait\" id=\"cf-spinner-please-wait\">Please stand by, while we are checking your browser...</p>\n",
      "      <p data-translate=\"redirecting\" id=\"cf-spinner-redirecting\" style=\"display:none\">Redirecting...</p>\n",
      "      </div>\n",
      "  <input type=\"hidden\" name=\"md\" value=\"RUe1PcR.OyJQHo90yX.5FzED4GhAMvHwYkOWwE6A678-1657427142-0-Aai_yfSk3pImNZwQv82uhzlp86VnjpCkOkOO8rXlNPTBcF8jeJxIFSSxFyVnJk_nrK5uvk_odabpbB1ra860OaCWhBC7z6ZPFjI-eiAAgbtI_cSl0tBPrgC6IfyZvw6BDqnm0RMXPRK6uk_5-cMErItUp55AmG2ZNkIaCQnU9FxgdxF2U-STXZA-EaFXRf-7Ca9zP86z6yzuHPYPrb138vQobG457XgcbXzwo9jvji0WG_L-xsmgOGmayPh9dYc7Hvj8LmmoR321zC36WeVIqLuSoYqqj-9hdUTiX2BXurggi_mgG3_QFdEi35LQQ_amTaSnTTOljozr5DUZS3ClFVMQF0ViWmeOevyJwBBn4OpeiaOwEaBkWkPeAgn1cbzo21XimVS7SZrXa9MeK888pudWE0n4joWu4GxFgkG0A-Rg0Q1c8Jg15s2OFqFFwY9ymSCkHmah-I50_lZX8rYFWX1_3wzjlOpNTVRV2l2Cn7boAvnNxRnStBJSGfCfEneTwTqwmmxYzjAHq1ubL92B-Rycz4XkwK6JiV9Rpu8sdrjnf2N3epXoRplPKM4QaKzVFLhFYYNX6Nv4Cq_g9FT-WDfuVd_s8WkheoHXkQUxnmja305TGnkC_VfbCf-jjA2-VJBuvTATHeiFqQUHRF7sa5GcHbKGiEZK1y2EN6plRa5N7eWkSd7nBDd6Zh8wttxdNQ\" />\n",
      "  <input type=\"hidden\" name=\"r\" value=\"NTCIlPM4zcK1c6LqyXDrT0SZxbDirLQvlutC19UntEM-1657427142-0-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\">\n",
      "  <input type=\"hidden\" name=\"vc\" value=\"91db203a572e50783f16fd67102baa81\">\n",
      "  <noscript id=\"cf-captcha-bookmark\" class=\"cf-captcha-info\">\n",
      "  <h1 data-translate=\"turn_on_js\" style=\"color:#bd2426;\">Please turn JavaScript on and reload the page.</h1>\n",
      "  </noscript>\n",
      "    <div id=\"no-cookie-warning\" class=\"cookie-warning\" data-translate=\"turn_on_cookies\" style=\"display:none\">\n",
      "      <p data-translate=\"turn_on_cookies\" style=\"color:#bd2426;\">Please enable Cookies and reload the page.</p>\n",
      "    </div>\n",
      "  <script>\n",
      "  //<![CDATA[\n",
      "    var a = function() {try{return !!window.addEventListener} catch(e) {return !1} },\n",
      "      b = function(b, c) {a() ? document.addEventListener(\"DOMContentLoaded\", b, c) : document.attachEvent(\"onreadystatechange\", b)};\n",
      "      b(function(){\n",
      "        var cookiesEnabled=(navigator.cookieEnabled)? true : false;\n",
      "        if(!cookiesEnabled){\n",
      "          var q = document.getElementById('no-cookie-warning');q.style.display = 'block';\n",
      "        }\n",
      "      });\n",
      "  //]]>\n",
      "  </script>\n",
      "  <div id=\"trk_captcha_js\" style=\"background-image:url('/cdn-cgi/images/trace/captcha/nojs/h/transparent.gif?ray=7286897a5c004b35')\"></div>\n",
      "</form>\n",
      "  <script>\n",
      "    //<![CDATA[\n",
      "    (function(){\n",
      "        var isIE = /(MSIE|Trident\\/|Edge\\/)/i.test(window.navigator.userAgent);\n",
      "        var trkjs = isIE ? new Image() : document.createElement('img');\n",
      "        trkjs.setAttribute(\"src\", \"/cdn-cgi/images/trace/managed/js/transparent.gif?ray=7286897a5c004b35\");\n",
      "        trkjs.id = \"trk_managed_js\";\n",
      "        trkjs.setAttribute(\"alt\", \"\");\n",
      "        document.body.appendChild(trkjs);\n",
      "        var cpo=document.createElement('script');\n",
      "        cpo.type='text/javascript';\n",
      "        cpo.src=\"/cdn-cgi/challenge-platform/h/g/orchestrate/managed/v1?ray=7286897a5c004b35\";\n",
      "        \n",
      "        window._cf_chl_opt.cOgUHash = location.hash === '' && location.href.indexOf('#') !== -1 ? '#' : location.hash;\n",
      "        window._cf_chl_opt.cOgUQuery = location.search === '' && location.href.slice(0, -window._cf_chl_opt.cOgUHash.length).indexOf('?') !== -1 ? '?' : location.search;\n",
      "        if (window._cf_chl_opt.cUPMDTk && window.history && window.history.replaceState) {\n",
      "          var ogU = location.pathname + window._cf_chl_opt.cOgUQuery + window._cf_chl_opt.cOgUHash;\n",
      "          history.replaceState(null, null, \"\\/apps\\/page1\\/?__cf_chl_rt_tk=9a0OUtllpSKDZfj.cIOWraCvvkzhSviuEBRVmATeD5U-1657427142-0-gaNycGzNCOU\" + window._cf_chl_opt.cOgUHash);\n",
      "          cpo.onload = function() {\n",
      "            history.replaceState(null, null, ogU);\n",
      "          };\n",
      "        }\n",
      "        \n",
      "        document.getElementsByTagName('head')[0].appendChild(cpo);\n",
      "    }());\n",
      "    //]]>\n",
      "    </script>\n",
      "\n",
      "</div>\n",
      "\t\t<div class=\"muted\">\n",
      "\t\t\t<p>SteamDB requires a fully up to date browser. If this page keeps refreshing, try clearing cookies for this site.</p>\n",
      "\t\t\t<p>RAY: <b>7286897a5c004b35</b></p>\n",
      "\t\t</div>\n",
      "\t</div>\n",
      "</body>\n",
      "</html>\n"
     ]
    }
   ],
   "source": [
    "print(req.text)"
   ]
  },
  {
   "cell_type": "code",
   "execution_count": null,
   "id": "fc0acb6a-5b37-4e73-b894-2f0cc95cdb1e",
   "metadata": {},
   "outputs": [],
   "source": []
  }
 ],
 "metadata": {
  "kernelspec": {
   "display_name": "Python 3 (ipykernel)",
   "language": "python",
   "name": "python3"
  },
  "language_info": {
   "codemirror_mode": {
    "name": "ipython",
    "version": 3
   },
   "file_extension": ".py",
   "mimetype": "text/x-python",
   "name": "python",
   "nbconvert_exporter": "python",
   "pygments_lexer": "ipython3",
   "version": "3.9.7"
  }
 },
 "nbformat": 4,
 "nbformat_minor": 5
}
