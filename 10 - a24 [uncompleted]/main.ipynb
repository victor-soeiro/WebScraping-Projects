{
 "cells": [
  {
   "cell_type": "markdown",
   "id": "fe20a43a-3a83-46db-815a-08ffb0f97e4b",
   "metadata": {},
   "source": [
    "<div style=\"color: white;\n",
    "            display: fill;\n",
    "            background-color: #4A4F55;\n",
    "            border-radius: 5px;\n",
    "            font-family: Verdana;\n",
    "            letter-spacing: .5px;\n",
    "            display: flex;\n",
    "            justify-content: center;\">\n",
    "    <h1 style=\"padding: 1.5rem;\n",
    "               color: white;\n",
    "               text-align: center;\n",
    "               margin: 0 auto;\n",
    "               font-size: 25px;\"> \n",
    "        A24 Films - A IMDB Web Scraping Project \n",
    "    </h1>\n",
    "</div>"
   ]
  },
  {
   "cell_type": "markdown",
   "id": "e821612e-3788-438c-ad2c-42b1444300da",
   "metadata": {},
   "source": [
    "<p style=\"text-align: center; font-family: sans-serif; font-weight: bold; font-size: 15px; margin-bottom: 20px\">\n",
    "    If you find this notebook useful, support starring this repository.\n",
    "</p>"
   ]
  },
  {
   "cell_type": "markdown",
   "id": "28836acd-7673-4073-a59b-d81c239505bb",
   "metadata": {},
   "source": [
    "<div style=\"color: white;\n",
    "            display: fill;\n",
    "            background-color: #4A8573;\n",
    "            border-radius: 5px;\n",
    "            font-family: Verdana;\n",
    "            letter-spacing: .5px;\n",
    "            display: flex;;\">\n",
    "    <h1 style=\"padding: 1rem;\n",
    "               color: white;\n",
    "               text-align: center;\n",
    "               margin: 0 auto;\n",
    "               font-size: 20px;\"> \n",
    "        Libraries \n",
    "    </h1>\n",
    "</div>"
   ]
  },
  {
   "cell_type": "markdown",
   "id": "feb432c3-bf20-4ac1-8e35-acf6c5c6357f",
   "metadata": {},
   "source": [
    "IMDB has its own API for consumption of its data, but we only have 100 API calls for day. A24 contains more movies than that, so let's practice our skills by scraping the data from an HTML.\n",
    "\n",
    "We will use the Requests and BS4 package for this project."
   ]
  },
  {
   "cell_type": "code",
   "execution_count": 3,
   "id": "3f828d71-50e1-4596-b13a-f969b899f304",
   "metadata": {},
   "outputs": [],
   "source": [
    "import json\n",
    "import requests\n",
    "\n",
    "from bs4 import BeautifulSoup\n",
    "from math import ceil"
   ]
  },
  {
   "cell_type": "markdown",
   "id": "f9617b7c-e77a-4dec-b9d3-6cfbbb52e149",
   "metadata": {},
   "source": [
    "<div style=\"color: white;\n",
    "            display: fill;\n",
    "            background-color: #4A8573;\n",
    "            border-radius: 5px;\n",
    "            font-family: Verdana;\n",
    "            letter-spacing: .5px;\n",
    "            display: flex;\n",
    "            margin-top: 20px;\">\n",
    "    <h1 style=\"padding: 1rem;\n",
    "               color: white;\n",
    "               text-align: center;\n",
    "               margin: 0 auto;\n",
    "               font-size: 20px;\"> \n",
    "        Defining Variables \n",
    "    </h1>\n",
    "</div>"
   ]
  },
  {
   "cell_type": "markdown",
   "id": "35cd0e9c-fe2e-49ab-b588-420c1765c099",
   "metadata": {},
   "source": [
    "Searching on the IMDB site I found the company ID of A24."
   ]
  },
  {
   "cell_type": "code",
   "execution_count": 4,
   "id": "2dfb3287-6e2d-40df-bc43-991605a127b4",
   "metadata": {},
   "outputs": [],
   "source": [
    "COMPANY_ID = 'co0390816'"
   ]
  },
  {
   "cell_type": "markdown",
   "id": "c75df491-79f2-4b36-952f-9e4bc95145ea",
   "metadata": {},
   "source": [
    "The site uses a page system, but based on the number of results. Each page contains only 50 movies, so the second page starts with reference 51."
   ]
  },
  {
   "cell_type": "code",
   "execution_count": 5,
   "id": "bfaccedd-f38e-498b-ab5e-3d703cda0f7d",
   "metadata": {},
   "outputs": [],
   "source": [
    "URL = 'https://www.imdb.com/search/title/?companies={}&start={}&ref=adv_nxt&view=simple'"
   ]
  },
  {
   "cell_type": "markdown",
   "id": "ffbe4940-a03b-47d9-afbf-c27a0dce340f",
   "metadata": {},
   "source": [
    "We need to get the total number of titles to get the number of pages."
   ]
  },
  {
   "cell_type": "code",
   "execution_count": 6,
   "id": "bba34f60-2851-40e4-820d-fa2db1bbd243",
   "metadata": {},
   "outputs": [],
   "source": [
    "req = requests.get(URL.format(COMPANY_ID, 1))\n",
    "if req.status_code != 200:\n",
    "    raise requests.ConnectionError('Something went wrong')\n",
    "    \n",
    "soup = BeautifulSoup(req.text, 'html.parser')"
   ]
  },
  {
   "cell_type": "code",
   "execution_count": 7,
   "id": "c5c38600-7fc7-4eec-9089-9a23251f2986",
   "metadata": {},
   "outputs": [
    {
     "name": "stdout",
     "output_type": "stream",
     "text": [
      "Number of Titles: 371\n",
      "Number of Pages: 8\n"
     ]
    }
   ],
   "source": [
    "titles = int(soup.find('div', class_='desc').span.text.split(' ')[-2])\n",
    "pages = ceil(titles / 50)\n",
    "\n",
    "print('Number of Titles:', titles)\n",
    "print('Number of Pages:', pages)"
   ]
  },
  {
   "cell_type": "markdown",
   "id": "01590398-7f7d-42cd-b0cb-4ff4f917f8c1",
   "metadata": {},
   "source": []
  },
  {
   "cell_type": "code",
   "execution_count": 8,
   "id": "04badcb5-c814-4b9b-8411-6a026af2dd12",
   "metadata": {},
   "outputs": [],
   "source": [
    "headers = {\n",
    "    \"user-agent\": \"Mozilla/5.0 (Windows NT 10.0; Win64; x64) AppleWebKit/537.36 (KHTML, like Gecko) Chrome/101.0.4951.41 Safari/537.36 Edg/101.0.1210.32\",\n",
    "    'accept-language': 'en;q=0.8,en-GB;q=0.7,en-US;q=0.6'\n",
    "}"
   ]
  },
  {
   "cell_type": "markdown",
   "id": "3fb77f9a-ce66-41c7-9471-44700dd33567",
   "metadata": {},
   "source": [
    "<div style=\"color: white;\n",
    "            display: fill;\n",
    "            background-color: #4A8573;\n",
    "            border-radius: 5px;\n",
    "            font-family: Verdana;\n",
    "            letter-spacing: .5px;\n",
    "            display: flex;\n",
    "            margin-top: 20px;\">\n",
    "    <h1 style=\"padding: 1rem;\n",
    "               color: white;\n",
    "               text-align: center;\n",
    "               margin: 0 auto;\n",
    "               font-size: 20px;\"> \n",
    "        Collecting Data \n",
    "    </h1>\n",
    "</div>"
   ]
  },
  {
   "cell_type": "code",
   "execution_count": 47,
   "id": "43a2df28-9c69-45d6-a3c3-1c8a89e41b57",
   "metadata": {},
   "outputs": [],
   "source": [
    "def get_title_information(url: str):\n",
    "    req = requests.get(url, headers=headers)\n",
    "    if req.status_code != 200:\n",
    "        raise requests.ConnectionError('Something went wrong')\n",
    "    soup = BeautifulSoup(req.text, 'html.parser')\n",
    "        \n",
    "    data = dict()\n",
    "    meta = json.loads(soup.find('script', {'id': '__NEXT_DATA__'}).text)['props']['pageProps']['aboveTheFoldData']\n",
    "    if meta['productionStatus']['currentProductionStage']['id'] == 'in_development':\n",
    "        return\n",
    "    \n",
    "    from pprint import pprint\n",
    "    #pprint(meta)\n",
    "    \n",
    "    # data['type'] = meta['@type']\n",
    "    \n",
    "    data['certificate'] = meta['certificate']['rating']\n",
    "    data['credits'] = meta['credits']['total']\n",
    "    data['release_date'] = f'{meta[\"releaseDate\"][\"month\"]}/{meta[\"releaseDate\"][\"day\"]}/{meta[\"releaseDate\"][\"year\"]}'\n",
    "    data['countries_of_origin'] = [i['id'] for i in meta['countriesOfOrigin']['countries']]\n",
    "    data['genres'] = [i['id'] for i in meta['genres']['genres']]\n",
    "    data['imdb'] = meta['id']\n",
    "    data['keywords'] = [i['node']['text'] for i in meta['keywords']['edges']]\n",
    "    data['status'] = meta['meta']['publicationStatus']\n",
    "    data['metacritic'] = meta['metacritic']['metascore']['score']\n",
    "    data['title'] = meta['originalTitleText']['text']\n",
    "    data['plot'] = meta['plot']['plotText']['plainText']\n",
    "    data['rating'] = meta['ratingsSummary']['aggregateRating']\n",
    "    data['vote_count'] = meta['ratingsSummary']['voteCount']\n",
    "    data['reviews'] = meta['reviews']['total']\n",
    "    data['runtime'] = meta['runtime']['seconds']\n",
    "        \n",
    "    return data"
   ]
  },
  {
   "cell_type": "code",
   "execution_count": 48,
   "id": "5cbee93e-e1df-46db-8461-8de3ffa39753",
   "metadata": {},
   "outputs": [
    {
     "data": {
      "text/plain": [
       "{'certificate': 'R',\n",
       " 'credits': 519,\n",
       " 'release_date': '3/25/2022',\n",
       " 'countries_of_origin': ['US'],\n",
       " 'genres': ['Action', 'Adventure', 'Comedy', 'Fantasy', 'Sci-Fi'],\n",
       " 'imdb': 'tt6710474',\n",
       " 'keywords': ['multiverse',\n",
       "  'chinese',\n",
       "  'immigrant',\n",
       "  'saving the world',\n",
       "  'mother daughter relationship'],\n",
       " 'status': 'PUBLISHED',\n",
       " 'metacritic': 81,\n",
       " 'title': 'Everything Everywhere All at Once',\n",
       " 'plot': 'An aging Chinese immigrant is swept up in an insane adventure, where she alone can save the world by exploring other universes connecting with the lives she could have led.',\n",
       " 'rating': 8.2,\n",
       " 'vote_count': 146505,\n",
       " 'reviews': 1653,\n",
       " 'runtime': 8340}"
      ]
     },
     "execution_count": 48,
     "metadata": {},
     "output_type": "execute_result"
    }
   ],
   "source": [
    "get_title_information('https://www.imdb.com/title/tt6710474')"
   ]
  },
  {
   "cell_type": "code",
   "execution_count": 10,
   "id": "304da007-ccac-4d0f-8b73-7efbab9dcde9",
   "metadata": {},
   "outputs": [],
   "source": [
    "def get_page_titles(reference: str, company: str = COMPANY_ID):\n",
    "    \"\"\" Collect all titles from a IMDb page. \"\"\"\n",
    "    \n",
    "    req = requests.get(URL.format(company, reference), headers=headers)\n",
    "    if req.status_code != 200:\n",
    "        raise requests.ConnectionError('Something went wrong')\n",
    "    soup = BeautifulSoup(req.text, 'html.parser')\n",
    "    \n",
    "    data = []\n",
    "    lister_list = soup.findAll('span', {'class': 'lister-item-header'})\n",
    "    for title in lister_list:\n",
    "        if title.find('small'):\n",
    "            continue\n",
    "        \n",
    "        title_link = 'https://www.imdb.com' + title.find('a')['href']\n",
    "        print(title_link)\n",
    "        title_info = get_title_information(title_link)\n",
    "        data.append(title_info)\n",
    "    \n",
    "    return data"
   ]
  },
  {
   "cell_type": "code",
   "execution_count": 11,
   "id": "cbeb2a0e-b148-4410-8137-c7b8d070caf0",
   "metadata": {},
   "outputs": [],
   "source": [
    "def get_all_titles_from_company():\n",
    "    \"\"\" \"\"\"\n",
    "    pass"
   ]
  },
  {
   "cell_type": "markdown",
   "id": "fbc84454-3a1c-494a-a886-d56f460fd47a",
   "metadata": {},
   "source": [
    "Needs to delete:\n",
    "\n",
    "* production_companies\n",
    "* filming_locations\n",
    "* also_known_as\n",
    "* released_year\n",
    "* opening_weekend_us_&_canada\n",
    "* official_sites\n",
    "* writers\n",
    "* stars"
   ]
  },
  {
   "cell_type": "code",
   "execution_count": null,
   "id": "47e224f1-9251-404a-9ef2-e1202df995ca",
   "metadata": {},
   "outputs": [],
   "source": []
  }
 ],
 "metadata": {
  "kernelspec": {
   "display_name": "Python 3 (ipykernel)",
   "language": "python",
   "name": "python3"
  },
  "language_info": {
   "codemirror_mode": {
    "name": "ipython",
    "version": 3
   },
   "file_extension": ".py",
   "mimetype": "text/x-python",
   "name": "python",
   "nbconvert_exporter": "python",
   "pygments_lexer": "ipython3",
   "version": "3.9.7"
  }
 },
 "nbformat": 4,
 "nbformat_minor": 5
}
