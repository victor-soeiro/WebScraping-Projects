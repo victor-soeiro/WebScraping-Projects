{
 "cells": [
  {
   "cell_type": "markdown",
   "id": "ca0705de-b113-457d-860f-6211c123ff62",
   "metadata": {
    "tags": []
   },
   "source": [
    "## **Tapas - WebScraping Project**\n"
   ]
  },
  {
   "cell_type": "markdown",
   "id": "dd230c33-771a-4e3a-b2f9-81561d9c067f",
   "metadata": {},
   "source": [
    "<img src=\"https://scontent-gig2-1.xx.fbcdn.net/v/t1.6435-9/67064783_1590702974393670_4265688551187808256_n.jpg?_nc_cat=111&ccb=1-5&_nc_sid=e3f864&_nc_eui2=AeE_Z804yhpjzF7_JAf_PnTHWNIs4NRB_E5Y0izg1EH8TsrAj0E_gbN2MOy5PvW0ZgkHk7rXzlw_12lQjclXLBEf&_nc_ohc=65rkqjb3FksAX-ELv1a&_nc_ht=scontent-gig2-1.xx&oh=00_AT8lz-1dWIgLQ38E6C1uNO00oTxw-H6hXQQ0BeN7Ep7suw&oe=6297B2C6\" width=\"100%\">"
   ]
  },
  {
   "cell_type": "markdown",
   "id": "cfbed9ce-d377-4be4-a167-719d774d9e61",
   "metadata": {
    "tags": []
   },
   "source": [
    "### **Introduction**"
   ]
  },
  {
   "cell_type": "markdown",
   "id": "e7658d2f-1c49-47c2-bde3-e6b8f67efa19",
   "metadata": {
    "tags": []
   },
   "source": [
    "Established in 2012, headquartered in Los Angeles with key global operations in Seoul, South Korea, and Beijing, China, Tapas Media is one of the fastest-growing digital publishing platforms of webcomics and novels in North America. Tapas has created a community of more than 9M registered users with stories from 68,000 creators and published over 99,000 stories to date.\n",
    "\n",
    "**Disclaimer:** This is a personal project to practice webscraping skills and exploratory data analysis. I do not recommend to use for other purposes. Use it at your own risk."
   ]
  },
  {
   "cell_type": "markdown",
   "id": "5796affc-18a3-417d-998a-536d4865310e",
   "metadata": {},
   "source": [
    "### **Libraries**"
   ]
  },
  {
   "cell_type": "markdown",
   "id": "7136d848-0e53-453b-8430-6c937035b53c",
   "metadata": {},
   "source": [
    "Tapas has a system page that uses JSON files to handle the page items. It's easy to deal and manipulate. We will use only the main tools for the project: \n",
    "\n",
    "* Request for the website requests.\n",
    "* Pandas for file handling.\n",
    "* bs4 for HTML extraction. \n",
    "\n",
    "If you wanna replicate, maybe you need to install these packages with PIP command."
   ]
  },
  {
   "cell_type": "code",
   "execution_count": 1,
   "id": "9ecee1b7-799e-42e3-b693-0464f0e17c5e",
   "metadata": {},
   "outputs": [],
   "source": [
    "import time\n",
    "import requests\n",
    "import pandas as pd\n",
    "\n",
    "from tqdm.notebook import tqdm, tnrange\n",
    "from bs4 import BeautifulSoup"
   ]
  },
  {
   "cell_type": "markdown",
   "id": "639f86df-134c-4b8b-b161-4b879ee906ce",
   "metadata": {},
   "source": [
    "### **Variables**"
   ]
  },
  {
   "cell_type": "markdown",
   "id": "3d4d8943-e629-4e51-bdf9-f8f6204ea2c6",
   "metadata": {},
   "source": [
    "Let's define our URL for scraping."
   ]
  },
  {
   "cell_type": "code",
   "execution_count": 2,
   "id": "1fc74f77-fc88-47ed-9ea0-7432868dd785",
   "metadata": {},
   "outputs": [],
   "source": [
    "url = 'https://tapas.io/comics'"
   ]
  },
  {
   "cell_type": "markdown",
   "id": "db1947fb-99c4-40a1-81a1-6049a44f7b25",
   "metadata": {},
   "source": [
    "We have some important parameters to define in our requests.\n",
    "\n",
    "* **b**: ALL (List all items).\n",
    "* **g**: 0 (Items genre set to All Genres).\n",
    "* **f**: PRM (Only premium items).\n",
    "* **s**: LIKE (Ordered by likes).\n",
    "* **pageNumber**: The dynamic page value.\n",
    "* **pageSize**: 20 (Number of items per page).\n",
    "\n",
    "Let's focus only on the premium webtoons, because the free content has above 80k items. We will only manipulate the **pageNumber** parameter for the scraper. "
   ]
  },
  {
   "cell_type": "code",
   "execution_count": 4,
   "id": "2227ddf0-fbcc-42ed-b03d-6b429bf32e9a",
   "metadata": {},
   "outputs": [],
   "source": [
    "params = {\n",
    "    'b': 'ALL',\n",
    "    'g': 0,\n",
    "    'f': 'PRM',\n",
    "    's': 'LIKE',\n",
    "    'pageNumber': 1,\n",
    "    'pageSize': 20\n",
    "}"
   ]
  },
  {
   "cell_type": "markdown",
   "id": "c84ac038-582e-4c01-b480-bb87c81bc73e",
   "metadata": {},
   "source": [
    "For the server not forbbiden our access, we need to pass a user agent and accepts only json files for manipulation."
   ]
  },
  {
   "cell_type": "code",
   "execution_count": 5,
   "id": "4bde27c4-23c3-406f-b290-30f834ac6fe9",
   "metadata": {},
   "outputs": [],
   "source": [
    "headers = {\n",
    "    'user-agent': 'Mozilla/5.0 (Windows NT 10.0; Win64; x64) AppleWebKit/537.36 (KHTML, like Gecko) Chrome/100.0.4896.127 Safari/537.36',\n",
    "}\n",
    "\n",
    "json_headers = headers.copy()\n",
    "json_headers['accept'] = 'application/json'"
   ]
  },
  {
   "cell_type": "markdown",
   "id": "6778afcb-dce2-442b-aed2-132a203a7bac",
   "metadata": {},
   "source": [
    "## **Scraper**"
   ]
  },
  {
   "cell_type": "markdown",
   "id": "07047bba-f1da-4cf4-8d8f-4b9912f36878",
   "metadata": {},
   "source": [
    "I will use a for loop to scrape the data from the pages, but I need to know how many pages are available. Usually, we can extract the page number from the HTML, in this case, we can check directly from the JSON file. Let's make the request to check it."
   ]
  },
  {
   "cell_type": "code",
   "execution_count": 6,
   "id": "f915b5ac-5183-4824-b380-c9d6423bd02d",
   "metadata": {},
   "outputs": [
    {
     "data": {
      "text/plain": [
       "200"
      ]
     },
     "execution_count": 6,
     "metadata": {},
     "output_type": "execute_result"
    }
   ],
   "source": [
    "req = requests.get(url, headers=json_headers, params=params)\n",
    "req.status_code"
   ]
  },
  {
   "cell_type": "markdown",
   "id": "a2c38a79-7276-4bc1-8ba2-2cb49e1f3c5f",
   "metadata": {},
   "source": [
    "We can check the total page inside the **pager** key in the JSON."
   ]
  },
  {
   "cell_type": "code",
   "execution_count": 7,
   "id": "526880f0-f3fb-40a1-be2a-69dadde68c91",
   "metadata": {
    "tags": []
   },
   "outputs": [
    {
     "data": {
      "text/plain": [
       "37"
      ]
     },
     "execution_count": 7,
     "metadata": {},
     "output_type": "execute_result"
    }
   ],
   "source": [
    "total_page = req.json()['data']['pager']['total_page']\n",
    "total_page"
   ]
  },
  {
   "cell_type": "markdown",
   "id": "98bc23db-34bf-4899-b1fb-da410cf6a070",
   "metadata": {},
   "source": [
    "There is a total of 37 pages with 20 items each. This give us a maximum of 740 items. If one error occurs in the process, we will lose all the progress. One of the possibilities is to write directly into a file, but it will be a heavy memory consumer. As we are dealing with a notebook, I will write the data on a dictionary, as the key is the page, and the value it's the manga metadata."
   ]
  },
  {
   "cell_type": "code",
   "execution_count": 17,
   "id": "39607845-409d-4a38-b45b-e93b91801325",
   "metadata": {},
   "outputs": [],
   "source": [
    "pages_data = {}"
   ]
  },
  {
   "cell_type": "markdown",
   "id": "c0527620-52df-4848-ae17-a5868ef363e9",
   "metadata": {},
   "source": [
    "The most of informations about the webtoons are not available on the search page. In the info page of the webtoon we can access an amount of information. We will make a new request for each item to get these information. Let's encapsulate the scrap process on a function."
   ]
  },
  {
   "cell_type": "code",
   "execution_count": 16,
   "id": "d1dabccc-be6e-41d4-8017-18bae336b4f2",
   "metadata": {},
   "outputs": [],
   "source": [
    "def get_item_information(info):    \n",
    "    req = requests.get(info, headers=headers)\n",
    "    if req.status_code != 200:\n",
    "        raise requests.ConnectionError(f'Connection failed. [{req.status_code}]')\n",
    "    \n",
    "    soup = BeautifulSoup(req.text, 'html.parser')\n",
    "    \n",
    "    creators = [c.text for c in soup.find('ul', attrs={'class': 'creator-section'}).findAll('a', attrs={'class': 'name'})]\n",
    "    genres = [g.text for g in soup.find('div', attrs={'class': 'info-detail__row'}).findAll('a')]\n",
    "    stats = soup.find('div', attrs={'class': 'stats'}).findAll('a')\n",
    "    views = stats[0]['data-title']\n",
    "    subscribers = stats[1]['data-title']\n",
    "    likes = stats[2]['data-title']\n",
    "    banner = soup.find('div', attrs={'class': 'js-top-banner'})['style'].split(';')[1][22:-1]\n",
    "    details = soup.find('span', attrs={'class': 'description__body'}).text.strip()\n",
    "    tags = [t.text for t in soup.findAll('a', attrs={'class': 'tags__item'})]\n",
    "    episodes = soup.find('p', attrs={'class': 'episode-cnt'}).text.strip().split(' ')[0]\n",
    "    released = soup.find('li', attrs={'class': 'episode-list__item'}).find('p', attrs={'class': 'additional'}).span.text\n",
    "    \n",
    "    return [\n",
    "        creators, genres, views, subscribers, likes, banner, details, tags, episodes, released\n",
    "    ]\n"
   ]
  },
  {
   "cell_type": "markdown",
   "id": "e5f789bb-9e82-4851-a666-c221a9b16b68",
   "metadata": {},
   "source": [
    "And now for the main part, let's scrape!"
   ]
  },
  {
   "cell_type": "code",
   "execution_count": 20,
   "id": "cc28ad46-77df-4176-8929-3778e1a147d0",
   "metadata": {
    "tags": []
   },
   "outputs": [
    {
     "data": {
      "application/vnd.jupyter.widget-view+json": {
       "model_id": "a5045da731ef42ed9bb00b0bdc81df6d",
       "version_major": 2,
       "version_minor": 0
      },
      "text/plain": [
       "Pages:   0%|          | 0/37 [00:00<?, ?it/s]"
      ]
     },
     "metadata": {},
     "output_type": "display_data"
    },
    {
     "data": {
      "application/vnd.jupyter.widget-view+json": {
       "model_id": "6d2a218d3c7b4ce682105888723f51ba",
       "version_major": 2,
       "version_minor": 0
      },
      "text/plain": [
       "Items of Page 1:   0%|          | 0/20 [00:00<?, ?it/s]"
      ]
     },
     "metadata": {},
     "output_type": "display_data"
    },
    {
     "data": {
      "application/vnd.jupyter.widget-view+json": {
       "model_id": "aa4d0b51f3e9418ca9383928ea3261e6",
       "version_major": 2,
       "version_minor": 0
      },
      "text/plain": [
       "Items of Page 2:   0%|          | 0/20 [00:00<?, ?it/s]"
      ]
     },
     "metadata": {},
     "output_type": "display_data"
    },
    {
     "data": {
      "application/vnd.jupyter.widget-view+json": {
       "model_id": "ef8dba9efd394aa9a50a33cec5f8424c",
       "version_major": 2,
       "version_minor": 0
      },
      "text/plain": [
       "Items of Page 3:   0%|          | 0/20 [00:00<?, ?it/s]"
      ]
     },
     "metadata": {},
     "output_type": "display_data"
    },
    {
     "data": {
      "application/vnd.jupyter.widget-view+json": {
       "model_id": "78026121101e431893c455e1ea8d37fd",
       "version_major": 2,
       "version_minor": 0
      },
      "text/plain": [
       "Items of Page 4:   0%|          | 0/20 [00:00<?, ?it/s]"
      ]
     },
     "metadata": {},
     "output_type": "display_data"
    },
    {
     "data": {
      "application/vnd.jupyter.widget-view+json": {
       "model_id": "85d84438f476430a8902c24cad635b64",
       "version_major": 2,
       "version_minor": 0
      },
      "text/plain": [
       "Items of Page 5:   0%|          | 0/20 [00:00<?, ?it/s]"
      ]
     },
     "metadata": {},
     "output_type": "display_data"
    },
    {
     "data": {
      "application/vnd.jupyter.widget-view+json": {
       "model_id": "9a6b69cfe1934109a82e1b4f54ec3859",
       "version_major": 2,
       "version_minor": 0
      },
      "text/plain": [
       "Items of Page 6:   0%|          | 0/20 [00:00<?, ?it/s]"
      ]
     },
     "metadata": {},
     "output_type": "display_data"
    },
    {
     "data": {
      "application/vnd.jupyter.widget-view+json": {
       "model_id": "5f103b4a27ac4d6e90871102865477d8",
       "version_major": 2,
       "version_minor": 0
      },
      "text/plain": [
       "Items of Page 7:   0%|          | 0/20 [00:00<?, ?it/s]"
      ]
     },
     "metadata": {},
     "output_type": "display_data"
    },
    {
     "data": {
      "application/vnd.jupyter.widget-view+json": {
       "model_id": "2c2da2461abd47deb89a6f9b8dceb159",
       "version_major": 2,
       "version_minor": 0
      },
      "text/plain": [
       "Items of Page 8:   0%|          | 0/20 [00:00<?, ?it/s]"
      ]
     },
     "metadata": {},
     "output_type": "display_data"
    },
    {
     "data": {
      "application/vnd.jupyter.widget-view+json": {
       "model_id": "649e8d95abcc416f9e578fd81e82e36f",
       "version_major": 2,
       "version_minor": 0
      },
      "text/plain": [
       "Items of Page 9:   0%|          | 0/20 [00:00<?, ?it/s]"
      ]
     },
     "metadata": {},
     "output_type": "display_data"
    },
    {
     "data": {
      "application/vnd.jupyter.widget-view+json": {
       "model_id": "aa4e072700ae4cdc910ba2d65daec3e2",
       "version_major": 2,
       "version_minor": 0
      },
      "text/plain": [
       "Items of Page 10:   0%|          | 0/20 [00:00<?, ?it/s]"
      ]
     },
     "metadata": {},
     "output_type": "display_data"
    },
    {
     "data": {
      "application/vnd.jupyter.widget-view+json": {
       "model_id": "684810450ce3435fa0b56e2237e7d0f8",
       "version_major": 2,
       "version_minor": 0
      },
      "text/plain": [
       "Items of Page 11:   0%|          | 0/20 [00:00<?, ?it/s]"
      ]
     },
     "metadata": {},
     "output_type": "display_data"
    },
    {
     "data": {
      "application/vnd.jupyter.widget-view+json": {
       "model_id": "baf7716453b44fc3b9f87a5d5017fe37",
       "version_major": 2,
       "version_minor": 0
      },
      "text/plain": [
       "Items of Page 12:   0%|          | 0/20 [00:00<?, ?it/s]"
      ]
     },
     "metadata": {},
     "output_type": "display_data"
    },
    {
     "data": {
      "application/vnd.jupyter.widget-view+json": {
       "model_id": "5de3938c2e024cff80c4ced21df34cb0",
       "version_major": 2,
       "version_minor": 0
      },
      "text/plain": [
       "Items of Page 13:   0%|          | 0/20 [00:00<?, ?it/s]"
      ]
     },
     "metadata": {},
     "output_type": "display_data"
    },
    {
     "data": {
      "application/vnd.jupyter.widget-view+json": {
       "model_id": "599f00612faf47e9bea1983274a95cbc",
       "version_major": 2,
       "version_minor": 0
      },
      "text/plain": [
       "Items of Page 14:   0%|          | 0/20 [00:00<?, ?it/s]"
      ]
     },
     "metadata": {},
     "output_type": "display_data"
    },
    {
     "data": {
      "application/vnd.jupyter.widget-view+json": {
       "model_id": "f08e6c7fc1884f89a2b454d92dd8a8a5",
       "version_major": 2,
       "version_minor": 0
      },
      "text/plain": [
       "Items of Page 15:   0%|          | 0/20 [00:00<?, ?it/s]"
      ]
     },
     "metadata": {},
     "output_type": "display_data"
    },
    {
     "data": {
      "application/vnd.jupyter.widget-view+json": {
       "model_id": "6b76cc72a0604be6af5daac6ef6eb990",
       "version_major": 2,
       "version_minor": 0
      },
      "text/plain": [
       "Items of Page 16:   0%|          | 0/20 [00:00<?, ?it/s]"
      ]
     },
     "metadata": {},
     "output_type": "display_data"
    },
    {
     "data": {
      "application/vnd.jupyter.widget-view+json": {
       "model_id": "b84180bc7538428082c51b34c030b3b0",
       "version_major": 2,
       "version_minor": 0
      },
      "text/plain": [
       "Items of Page 17:   0%|          | 0/20 [00:00<?, ?it/s]"
      ]
     },
     "metadata": {},
     "output_type": "display_data"
    },
    {
     "data": {
      "application/vnd.jupyter.widget-view+json": {
       "model_id": "3700a7c52e2a4076892ec2f99a4a49f8",
       "version_major": 2,
       "version_minor": 0
      },
      "text/plain": [
       "Items of Page 18:   0%|          | 0/20 [00:00<?, ?it/s]"
      ]
     },
     "metadata": {},
     "output_type": "display_data"
    },
    {
     "data": {
      "application/vnd.jupyter.widget-view+json": {
       "model_id": "c0e1ba066857404e802d96a1b4e73a87",
       "version_major": 2,
       "version_minor": 0
      },
      "text/plain": [
       "Items of Page 19:   0%|          | 0/20 [00:00<?, ?it/s]"
      ]
     },
     "metadata": {},
     "output_type": "display_data"
    },
    {
     "data": {
      "application/vnd.jupyter.widget-view+json": {
       "model_id": "3dfb675ec26f4faaadea98e91876e25f",
       "version_major": 2,
       "version_minor": 0
      },
      "text/plain": [
       "Items of Page 20:   0%|          | 0/20 [00:00<?, ?it/s]"
      ]
     },
     "metadata": {},
     "output_type": "display_data"
    },
    {
     "data": {
      "application/vnd.jupyter.widget-view+json": {
       "model_id": "1866c528fc2a4150b9ae9e2fb5f2f9ec",
       "version_major": 2,
       "version_minor": 0
      },
      "text/plain": [
       "Items of Page 21:   0%|          | 0/20 [00:00<?, ?it/s]"
      ]
     },
     "metadata": {},
     "output_type": "display_data"
    },
    {
     "data": {
      "application/vnd.jupyter.widget-view+json": {
       "model_id": "7f72e64b6fe14745939789520ae6e438",
       "version_major": 2,
       "version_minor": 0
      },
      "text/plain": [
       "Items of Page 22:   0%|          | 0/20 [00:00<?, ?it/s]"
      ]
     },
     "metadata": {},
     "output_type": "display_data"
    },
    {
     "data": {
      "application/vnd.jupyter.widget-view+json": {
       "model_id": "4d543df1e64747208c1b44db120baeef",
       "version_major": 2,
       "version_minor": 0
      },
      "text/plain": [
       "Items of Page 23:   0%|          | 0/20 [00:00<?, ?it/s]"
      ]
     },
     "metadata": {},
     "output_type": "display_data"
    },
    {
     "data": {
      "application/vnd.jupyter.widget-view+json": {
       "model_id": "32876678f1054e49a070507bd129b38a",
       "version_major": 2,
       "version_minor": 0
      },
      "text/plain": [
       "Items of Page 24:   0%|          | 0/20 [00:00<?, ?it/s]"
      ]
     },
     "metadata": {},
     "output_type": "display_data"
    },
    {
     "data": {
      "application/vnd.jupyter.widget-view+json": {
       "model_id": "097c328410be4f7ea0fbf38896854712",
       "version_major": 2,
       "version_minor": 0
      },
      "text/plain": [
       "Items of Page 25:   0%|          | 0/20 [00:00<?, ?it/s]"
      ]
     },
     "metadata": {},
     "output_type": "display_data"
    },
    {
     "data": {
      "application/vnd.jupyter.widget-view+json": {
       "model_id": "3689dae3aa354e6893630e975887c6d0",
       "version_major": 2,
       "version_minor": 0
      },
      "text/plain": [
       "Items of Page 26:   0%|          | 0/20 [00:00<?, ?it/s]"
      ]
     },
     "metadata": {},
     "output_type": "display_data"
    },
    {
     "data": {
      "application/vnd.jupyter.widget-view+json": {
       "model_id": "fdb3ef85cea944f5bad37f8eae517d6f",
       "version_major": 2,
       "version_minor": 0
      },
      "text/plain": [
       "Items of Page 27:   0%|          | 0/20 [00:00<?, ?it/s]"
      ]
     },
     "metadata": {},
     "output_type": "display_data"
    },
    {
     "data": {
      "application/vnd.jupyter.widget-view+json": {
       "model_id": "b68392053d82415986af8d118703f4fa",
       "version_major": 2,
       "version_minor": 0
      },
      "text/plain": [
       "Items of Page 28:   0%|          | 0/20 [00:00<?, ?it/s]"
      ]
     },
     "metadata": {},
     "output_type": "display_data"
    },
    {
     "data": {
      "application/vnd.jupyter.widget-view+json": {
       "model_id": "21d58bfe43b94ee8beabc36fc0e96fb8",
       "version_major": 2,
       "version_minor": 0
      },
      "text/plain": [
       "Items of Page 29:   0%|          | 0/20 [00:00<?, ?it/s]"
      ]
     },
     "metadata": {},
     "output_type": "display_data"
    },
    {
     "data": {
      "application/vnd.jupyter.widget-view+json": {
       "model_id": "fe8cb710ac5749e8bb05c8b8cf59251e",
       "version_major": 2,
       "version_minor": 0
      },
      "text/plain": [
       "Items of Page 30:   0%|          | 0/20 [00:00<?, ?it/s]"
      ]
     },
     "metadata": {},
     "output_type": "display_data"
    },
    {
     "data": {
      "application/vnd.jupyter.widget-view+json": {
       "model_id": "3908a77a369b41d5b26fef7d69a58a95",
       "version_major": 2,
       "version_minor": 0
      },
      "text/plain": [
       "Items of Page 31:   0%|          | 0/20 [00:00<?, ?it/s]"
      ]
     },
     "metadata": {},
     "output_type": "display_data"
    },
    {
     "data": {
      "application/vnd.jupyter.widget-view+json": {
       "model_id": "15828a60592b45beb48bc46e2352f324",
       "version_major": 2,
       "version_minor": 0
      },
      "text/plain": [
       "Items of Page 32:   0%|          | 0/20 [00:00<?, ?it/s]"
      ]
     },
     "metadata": {},
     "output_type": "display_data"
    },
    {
     "data": {
      "application/vnd.jupyter.widget-view+json": {
       "model_id": "00a6b87288f84e319a82e31b500aceaa",
       "version_major": 2,
       "version_minor": 0
      },
      "text/plain": [
       "Items of Page 33:   0%|          | 0/20 [00:00<?, ?it/s]"
      ]
     },
     "metadata": {},
     "output_type": "display_data"
    },
    {
     "data": {
      "application/vnd.jupyter.widget-view+json": {
       "model_id": "09d9abf253fa469e8bd0db9aeff51a3b",
       "version_major": 2,
       "version_minor": 0
      },
      "text/plain": [
       "Items of Page 34:   0%|          | 0/20 [00:00<?, ?it/s]"
      ]
     },
     "metadata": {},
     "output_type": "display_data"
    },
    {
     "data": {
      "application/vnd.jupyter.widget-view+json": {
       "model_id": "8070ed36a85e44c39e7f7d95dcbfc9f2",
       "version_major": 2,
       "version_minor": 0
      },
      "text/plain": [
       "Items of Page 35:   0%|          | 0/20 [00:00<?, ?it/s]"
      ]
     },
     "metadata": {},
     "output_type": "display_data"
    },
    {
     "data": {
      "application/vnd.jupyter.widget-view+json": {
       "model_id": "4767ea15efda4e90aff50be7e72e1625",
       "version_major": 2,
       "version_minor": 0
      },
      "text/plain": [
       "Items of Page 36:   0%|          | 0/20 [00:00<?, ?it/s]"
      ]
     },
     "metadata": {},
     "output_type": "display_data"
    },
    {
     "data": {
      "application/vnd.jupyter.widget-view+json": {
       "model_id": "ea4fa51a28c54b6b9db6718f4fa9c2ce",
       "version_major": 2,
       "version_minor": 0
      },
      "text/plain": [
       "Items of Page 37:   0%|          | 0/17 [00:00<?, ?it/s]"
      ]
     },
     "metadata": {},
     "output_type": "display_data"
    }
   ],
   "source": [
    "for i in tnrange(total_page, desc='Pages'):\n",
    "    page = i + 1 \n",
    "    params['pageNumber'] = page\n",
    "\n",
    "    if pages_data.get(page, []):\n",
    "        continue\n",
    "    \n",
    "    req = requests.get(url, headers=json_headers, params=params)\n",
    "    if req.status_code != 200:\n",
    "        raise requests.ConnectionError(f'Connection failed. [{req.status_code}]')\n",
    "    \n",
    "    html = req.json()['data']['body']\n",
    "    soup = BeautifulSoup(html, 'html.parser')\n",
    "        \n",
    "    data = []\n",
    "    items = soup.findAll('li')\n",
    "    for item in tqdm(items, desc=f'Items of Page {page}'):\n",
    "        title = item.find('img')['alt']\n",
    "        item_id = item.div.a['data-series-id']\n",
    "        # genre = item.p.a.text\n",
    "        # stats = item.find('span', attrs={'class': 'item__stat'}).text\n",
    "        link = 'https://tapas.io' +  item.div.a['href'] + '/info'\n",
    "        cover = item.find('img')['src']\n",
    "                \n",
    "        item_data = [title, item_id, link, cover]\n",
    "        item_data.extend(get_item_information(link))\n",
    "        \n",
    "        data.append(item_data)\n",
    "        \n",
    "        time.sleep(1)\n",
    "        \n",
    "    pages_data[page] = data"
   ]
  },
  {
   "cell_type": "code",
   "execution_count": 26,
   "id": "31615fd6-060b-4dec-8ba1-3b4241d06b7b",
   "metadata": {},
   "outputs": [
    {
     "data": {
      "text/plain": [
       "['My Gentle Giant',\n",
       " '140273',\n",
       " 'https://tapas.io/series/My-Gentle-Giant/info',\n",
       " 'https://d30womf5coomej.cloudfront.net/sa/55/a77bd21b-e4f6-4934-b316-0b9af3cb7bcc_z.jpg',\n",
       " ['EmAuthor'],\n",
       " ['BL', 'LGBTQ+', 'Slice of life'],\n",
       " '29,109,978 views',\n",
       " '241,427 subscribers',\n",
       " '2,934,170 likes',\n",
       " 'https://d30womf5coomej.cloudfront.net/sa/01/c44877f9-be85-4558-bb97-cd3f543a5938.jpg',\n",
       " \"Jun Watanabe is your average outcast. He's a third year in high school, but he looks like a first year. He wants to play soccer, but he sucks at sports. And to top it all off....he's gay. However, when Akihiro, the school giant, comes to his rescue, Jun finds out that looks can be deceiving, first loves are often full of misunderstandings, and what matters most, is not how you look, but what's inside your heart.\\n\\nSupport Us on Patreon: https://www.patreon.com/AUTHOREAB\",\n",
       " ['#gay',\n",
       "  '#soft',\n",
       "  '#comedy',\n",
       "  '#Angst',\n",
       "  '#bl',\n",
       "  '#fluff',\n",
       "  '#first_love',\n",
       "  '#slice_of_life',\n",
       "  '#Pure_Babies',\n",
       "  '#gay',\n",
       "  '#soft',\n",
       "  '#comedy',\n",
       "  '#Angst',\n",
       "  '#bl',\n",
       "  '#fluff',\n",
       "  '#first_love',\n",
       "  '#slice_of_life',\n",
       "  '#Pure_Babies'],\n",
       " '176',\n",
       " 'Sep 28, 2020']"
      ]
     },
     "execution_count": 26,
     "metadata": {},
     "output_type": "execute_result"
    }
   ],
   "source": [
    "pages_data[1][0]"
   ]
  },
  {
   "cell_type": "markdown",
   "id": "2498a41e-0702-42fa-bf88-31e16f661982",
   "metadata": {},
   "source": [
    "Above we can see the information about **My Gentle Giant**. The data are not specified, so let's define a columns variable."
   ]
  },
  {
   "cell_type": "code",
   "execution_count": 22,
   "id": "b61f32ab-f4d8-41db-afb0-343b6f639fab",
   "metadata": {},
   "outputs": [],
   "source": [
    "columns = [\n",
    "    'title', 'item_id', 'link', 'cover', 'creators', 'genres', 'views', 'subscribers', 'likes', 'banner', 'details', 'tags', 'episodes', 'released'\n",
    "]"
   ]
  },
  {
   "cell_type": "markdown",
   "id": "790b0686-5b76-4605-98ed-4890b02402a3",
   "metadata": {},
   "source": [
    "Each key of the dictionary contains a page data. Let's mount the data on a new list and pass to a dataframe."
   ]
  },
  {
   "cell_type": "code",
   "execution_count": 27,
   "id": "86b7d5d0-6cf1-4e04-80d1-1a2968296c05",
   "metadata": {
    "tags": []
   },
   "outputs": [
    {
     "data": {
      "text/html": [
       "<div>\n",
       "<style scoped>\n",
       "    .dataframe tbody tr th:only-of-type {\n",
       "        vertical-align: middle;\n",
       "    }\n",
       "\n",
       "    .dataframe tbody tr th {\n",
       "        vertical-align: top;\n",
       "    }\n",
       "\n",
       "    .dataframe thead th {\n",
       "        text-align: right;\n",
       "    }\n",
       "</style>\n",
       "<table border=\"1\" class=\"dataframe\">\n",
       "  <thead>\n",
       "    <tr style=\"text-align: right;\">\n",
       "      <th></th>\n",
       "      <th>title</th>\n",
       "      <th>item_id</th>\n",
       "      <th>link</th>\n",
       "      <th>cover</th>\n",
       "      <th>creators</th>\n",
       "      <th>genres</th>\n",
       "      <th>views</th>\n",
       "      <th>subscribers</th>\n",
       "      <th>likes</th>\n",
       "      <th>banner</th>\n",
       "      <th>details</th>\n",
       "      <th>tags</th>\n",
       "      <th>episodes</th>\n",
       "      <th>released</th>\n",
       "    </tr>\n",
       "  </thead>\n",
       "  <tbody>\n",
       "    <tr>\n",
       "      <th>0</th>\n",
       "      <td>My Gentle Giant</td>\n",
       "      <td>140273</td>\n",
       "      <td>https://tapas.io/series/My-Gentle-Giant/info</td>\n",
       "      <td>https://d30womf5coomej.cloudfront.net/sa/55/a7...</td>\n",
       "      <td>[EmAuthor]</td>\n",
       "      <td>[BL, LGBTQ+, Slice of life]</td>\n",
       "      <td>29,109,978 views</td>\n",
       "      <td>241,427 subscribers</td>\n",
       "      <td>2,934,170 likes</td>\n",
       "      <td>https://d30womf5coomej.cloudfront.net/sa/01/c4...</td>\n",
       "      <td>Jun Watanabe is your average outcast. He's a t...</td>\n",
       "      <td>[#gay, #soft, #comedy, #Angst, #bl, #fluff, #f...</td>\n",
       "      <td>176</td>\n",
       "      <td>Sep 28, 2020</td>\n",
       "    </tr>\n",
       "    <tr>\n",
       "      <th>1</th>\n",
       "      <td>DaiMaou</td>\n",
       "      <td>36492</td>\n",
       "      <td>https://tapas.io/series/daimaou/info</td>\n",
       "      <td>https://d30womf5coomej.cloudfront.net/sa/ee/47...</td>\n",
       "      <td>[Amanduur]</td>\n",
       "      <td>[BL, Comedy, Fantasy]</td>\n",
       "      <td>24,186,270 views</td>\n",
       "      <td>103,218 subscribers</td>\n",
       "      <td>2,453,503 likes</td>\n",
       "      <td>https://d30womf5coomej.cloudfront.net/sa/e9/5b...</td>\n",
       "      <td>TL;DR: Shitty comedy masquerading as an actual...</td>\n",
       "      <td>[#gay, #Fantasy, #romance, #comedy, #demons, #...</td>\n",
       "      <td>479</td>\n",
       "      <td>Jul 08, 2020</td>\n",
       "    </tr>\n",
       "    <tr>\n",
       "      <th>2</th>\n",
       "      <td>Idiots Don't Catch Colds</td>\n",
       "      <td>67447</td>\n",
       "      <td>https://tapas.io/series/Idiots-Dont-Catch-Cold...</td>\n",
       "      <td>https://d30womf5coomej.cloudfront.net/sa/6e/68...</td>\n",
       "      <td>[Aina Palm]</td>\n",
       "      <td>[BL]</td>\n",
       "      <td>18,534,129 views</td>\n",
       "      <td>132,648 subscribers</td>\n",
       "      <td>1,851,428 likes</td>\n",
       "      <td>https://d30womf5coomej.cloudfront.net/sa/49/92...</td>\n",
       "      <td>There is only one guy Souta absolutely can't s...</td>\n",
       "      <td>[#romance, #drama, #comedy, #Soccer, #sports, ...</td>\n",
       "      <td>233</td>\n",
       "      <td>Sep 02, 2020</td>\n",
       "    </tr>\n",
       "    <tr>\n",
       "      <th>3</th>\n",
       "      <td>Jamie</td>\n",
       "      <td>110007</td>\n",
       "      <td>https://tapas.io/series/Jamie/info</td>\n",
       "      <td>https://d30womf5coomej.cloudfront.net/sa/a9/05...</td>\n",
       "      <td>[Bre Indigo, Tami]</td>\n",
       "      <td>[LGBTQ+, Drama, Slice of life]</td>\n",
       "      <td>14,263,432 views</td>\n",
       "      <td>126,167 subscribers</td>\n",
       "      <td>1,452,529 likes</td>\n",
       "      <td>https://d30womf5coomej.cloudfront.net/sa/94/ce...</td>\n",
       "      <td>[ Coming of Age | LGBTQ+ | Young Adult ]\\n\\nAt...</td>\n",
       "      <td>[#friendship, #queer, #crush, #lgbt, #lgbtq, #...</td>\n",
       "      <td>138</td>\n",
       "      <td>Jun 04, 2020</td>\n",
       "    </tr>\n",
       "    <tr>\n",
       "      <th>4</th>\n",
       "      <td>FANGS</td>\n",
       "      <td>155459</td>\n",
       "      <td>https://tapas.io/series/fangscomic/info</td>\n",
       "      <td>https://d30womf5coomej.cloudfront.net/sa/18/a9...</td>\n",
       "      <td>[Sarah Andersen]</td>\n",
       "      <td>[Romance, Comedy]</td>\n",
       "      <td>36,237,626 views</td>\n",
       "      <td>160,308 subscribers</td>\n",
       "      <td>1,343,073 likes</td>\n",
       "      <td>6</td>\n",
       "      <td>Vamp is three hundred years old but in all tha...</td>\n",
       "      <td>[]</td>\n",
       "      <td>78</td>\n",
       "      <td>Oct 31, 2019</td>\n",
       "    </tr>\n",
       "  </tbody>\n",
       "</table>\n",
       "</div>"
      ],
      "text/plain": [
       "                      title item_id  \\\n",
       "0           My Gentle Giant  140273   \n",
       "1                   DaiMaou   36492   \n",
       "2  Idiots Don't Catch Colds   67447   \n",
       "3                     Jamie  110007   \n",
       "4                     FANGS  155459   \n",
       "\n",
       "                                                link  \\\n",
       "0       https://tapas.io/series/My-Gentle-Giant/info   \n",
       "1               https://tapas.io/series/daimaou/info   \n",
       "2  https://tapas.io/series/Idiots-Dont-Catch-Cold...   \n",
       "3                 https://tapas.io/series/Jamie/info   \n",
       "4            https://tapas.io/series/fangscomic/info   \n",
       "\n",
       "                                               cover            creators  \\\n",
       "0  https://d30womf5coomej.cloudfront.net/sa/55/a7...          [EmAuthor]   \n",
       "1  https://d30womf5coomej.cloudfront.net/sa/ee/47...          [Amanduur]   \n",
       "2  https://d30womf5coomej.cloudfront.net/sa/6e/68...         [Aina Palm]   \n",
       "3  https://d30womf5coomej.cloudfront.net/sa/a9/05...  [Bre Indigo, Tami]   \n",
       "4  https://d30womf5coomej.cloudfront.net/sa/18/a9...    [Sarah Andersen]   \n",
       "\n",
       "                           genres             views          subscribers  \\\n",
       "0     [BL, LGBTQ+, Slice of life]  29,109,978 views  241,427 subscribers   \n",
       "1           [BL, Comedy, Fantasy]  24,186,270 views  103,218 subscribers   \n",
       "2                            [BL]  18,534,129 views  132,648 subscribers   \n",
       "3  [LGBTQ+, Drama, Slice of life]  14,263,432 views  126,167 subscribers   \n",
       "4               [Romance, Comedy]  36,237,626 views  160,308 subscribers   \n",
       "\n",
       "             likes                                             banner  \\\n",
       "0  2,934,170 likes  https://d30womf5coomej.cloudfront.net/sa/01/c4...   \n",
       "1  2,453,503 likes  https://d30womf5coomej.cloudfront.net/sa/e9/5b...   \n",
       "2  1,851,428 likes  https://d30womf5coomej.cloudfront.net/sa/49/92...   \n",
       "3  1,452,529 likes  https://d30womf5coomej.cloudfront.net/sa/94/ce...   \n",
       "4  1,343,073 likes                                                  6   \n",
       "\n",
       "                                             details  \\\n",
       "0  Jun Watanabe is your average outcast. He's a t...   \n",
       "1  TL;DR: Shitty comedy masquerading as an actual...   \n",
       "2  There is only one guy Souta absolutely can't s...   \n",
       "3  [ Coming of Age | LGBTQ+ | Young Adult ]\\n\\nAt...   \n",
       "4  Vamp is three hundred years old but in all tha...   \n",
       "\n",
       "                                                tags episodes      released  \n",
       "0  [#gay, #soft, #comedy, #Angst, #bl, #fluff, #f...      176  Sep 28, 2020  \n",
       "1  [#gay, #Fantasy, #romance, #comedy, #demons, #...      479  Jul 08, 2020  \n",
       "2  [#romance, #drama, #comedy, #Soccer, #sports, ...      233  Sep 02, 2020  \n",
       "3  [#friendship, #queer, #crush, #lgbt, #lgbtq, #...      138  Jun 04, 2020  \n",
       "4                                                 []       78  Oct 31, 2019  "
      ]
     },
     "execution_count": 27,
     "metadata": {},
     "output_type": "execute_result"
    }
   ],
   "source": [
    "full_data = []\n",
    "for i in pages_data.values():\n",
    "    full_data.extend(i)\n",
    "    \n",
    "df = pd.DataFrame(full_data, columns=columns)\n",
    "df.head()"
   ]
  },
  {
   "cell_type": "markdown",
   "id": "f22ac421-b28a-4986-b46f-0c1aa0e66528",
   "metadata": {},
   "source": [
    "Some data need to be processed. Like the **views**, **subscribers** and **likes** columns. Let's save this data on a file!"
   ]
  },
  {
   "cell_type": "code",
   "execution_count": 28,
   "id": "b8c3cf56-8f51-44ba-ac8b-6c4322926bc6",
   "metadata": {},
   "outputs": [],
   "source": [
    "df.to_csv('data.csv', index=False)"
   ]
  },
  {
   "cell_type": "markdown",
   "id": "fe64ae43-4f29-4195-8fd8-b6958e7d9ef4",
   "metadata": {},
   "source": [
    "### **Contact**\n",
    "\n",
    "If you have any questions or suggestions, send me an email to victor.soeiro.araujo@gmail.com"
   ]
  }
 ],
 "metadata": {
  "kernelspec": {
   "display_name": "Python 3 (ipykernel)",
   "language": "python",
   "name": "python3"
  },
  "language_info": {
   "codemirror_mode": {
    "name": "ipython",
    "version": 3
   },
   "file_extension": ".py",
   "mimetype": "text/x-python",
   "name": "python",
   "nbconvert_exporter": "python",
   "pygments_lexer": "ipython3",
   "version": "3.9.7"
  }
 },
 "nbformat": 4,
 "nbformat_minor": 5
}
