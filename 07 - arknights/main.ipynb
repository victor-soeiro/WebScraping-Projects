{
 "cells": [
  {
   "cell_type": "markdown",
   "id": "9fa814b5-3613-4815-9dc5-3eddec2ad08f",
   "metadata": {},
   "source": [
    "## Arknights - Webscraping Project"
   ]
  },
  {
   "cell_type": "markdown",
   "id": "659364f8-003c-48de-8acd-9d43f5c7a5ef",
   "metadata": {},
   "source": [
    "<img src=\"https://gamepress.gg/arknights/sites/arknights/files/2021-01/WhoIsRealBanner_0.jpeg\" width=\"100%\">"
   ]
  },
  {
   "cell_type": "markdown",
   "id": "bc42905c-2d06-421b-8937-544bf32d9647",
   "metadata": {},
   "source": []
  },
  {
   "cell_type": "markdown",
   "id": "17b0cf63-2e31-4c65-ab4e-e0e71f3c6aba",
   "metadata": {},
   "source": []
  },
  {
   "cell_type": "code",
   "execution_count": 1,
   "id": "e2ca1e55-07f9-4cec-a27b-069c5272c129",
   "metadata": {},
   "outputs": [],
   "source": [
    "import requests\n",
    "import pandas as pd\n",
    "\n",
    "from pprint import pprint\n",
    "from tqdm.notebook import tqdm\n",
    "from bs4 import BeautifulSoup"
   ]
  },
  {
   "cell_type": "markdown",
   "id": "fce0fb01-02dd-4650-a114-984e3462c011",
   "metadata": {},
   "source": []
  },
  {
   "cell_type": "code",
   "execution_count": 2,
   "id": "0c6783af-f430-4221-b2f9-a19d76aaa980",
   "metadata": {},
   "outputs": [],
   "source": [
    "URL = 'https://arknights.fandom.com/wiki/Operator/{}-star'"
   ]
  },
  {
   "cell_type": "markdown",
   "id": "34d91782-08ea-4243-8293-3a5cd53ccc69",
   "metadata": {},
   "source": []
  },
  {
   "cell_type": "code",
   "execution_count": 3,
   "id": "c1e36f28-f00e-442e-b115-827925e78e95",
   "metadata": {},
   "outputs": [],
   "source": [
    "STARS = range(1, 7)"
   ]
  },
  {
   "cell_type": "markdown",
   "id": "39b49ce7-0e6d-450b-aaac-1ac0f306261c",
   "metadata": {},
   "source": []
  },
  {
   "cell_type": "code",
   "execution_count": 4,
   "id": "5f13f1ef-4c68-4fa1-8fd2-e9271d4a7c3c",
   "metadata": {},
   "outputs": [],
   "source": [
    "operators_urls = []"
   ]
  },
  {
   "cell_type": "markdown",
   "id": "89b6cb16-4d53-47e0-80c3-1eb23ebd86a4",
   "metadata": {},
   "source": []
  },
  {
   "cell_type": "code",
   "execution_count": 5,
   "id": "849b2f69-ce54-4548-9f0f-62338d64418c",
   "metadata": {},
   "outputs": [],
   "source": [
    "for star in STARS:\n",
    "    url = URL.format(star)\n",
    "\n",
    "    req = requests.get(url)\n",
    "    if req.status_code != 200:\n",
    "        raise requests.ConnectionError('connection failed.')\n",
    "\n",
    "    soup = BeautifulSoup(req.text, 'html.parser')\n",
    "\n",
    "    table = soup.find('table', attrs={'class': 'mrfz-btable'}).tbody\n",
    "    for row in table.findAll('tr'):\n",
    "        columns = row.findAll('td')\n",
    "        if not columns:\n",
    "            continue\n",
    "\n",
    "        operators_urls.append('https://arknights.fandom.com' + columns[1].a['href'])"
   ]
  },
  {
   "cell_type": "markdown",
   "id": "3a413424-38a1-416e-a68d-33bd26d500eb",
   "metadata": {},
   "source": []
  },
  {
   "cell_type": "code",
   "execution_count": 6,
   "id": "7e6be326-1531-49d2-a657-c5f9f30406a2",
   "metadata": {},
   "outputs": [
    {
     "data": {
      "text/plain": [
       "['https://arknights.fandom.com/wiki/Castle-3',\n",
       " 'https://arknights.fandom.com/wiki/Justice_Knight',\n",
       " 'https://arknights.fandom.com/wiki/Lancet-2',\n",
       " 'https://arknights.fandom.com/wiki/THRM-EX',\n",
       " 'https://arknights.fandom.com/wiki/12F']"
      ]
     },
     "execution_count": 6,
     "metadata": {},
     "output_type": "execute_result"
    }
   ],
   "source": [
    "operators_urls[:5]"
   ]
  },
  {
   "cell_type": "markdown",
   "id": "9baa4de1-0c7c-4621-abc2-5c4a1db632c7",
   "metadata": {},
   "source": []
  },
  {
   "cell_type": "code",
   "execution_count": 7,
   "id": "1a6f8b3b-4c2c-416e-864a-282839b1a2c4",
   "metadata": {},
   "outputs": [
    {
     "data": {
      "text/plain": [
       "235"
      ]
     },
     "execution_count": 7,
     "metadata": {},
     "output_type": "execute_result"
    }
   ],
   "source": [
    "len(operators_urls)"
   ]
  },
  {
   "cell_type": "markdown",
   "id": "9225e882-4e68-46ee-a8ea-9ac0fee59139",
   "metadata": {},
   "source": []
  },
  {
   "cell_type": "code",
   "execution_count": 8,
   "id": "bf45a15a-5460-499f-ab28-072502f5d0a5",
   "metadata": {},
   "outputs": [],
   "source": [
    "operators = []"
   ]
  },
  {
   "cell_type": "markdown",
   "id": "14779309-865c-4503-ad4e-90349b426f21",
   "metadata": {},
   "source": []
  },
  {
   "cell_type": "code",
   "execution_count": 9,
   "id": "bc911a00-8ae4-41c7-8102-de735ee371b1",
   "metadata": {},
   "outputs": [
    {
     "data": {
      "application/vnd.jupyter.widget-view+json": {
       "model_id": "5340a34b4309460f855a1c24777f74c2",
       "version_major": 2,
       "version_minor": 0
      },
      "text/plain": [
       "  0%|          | 0/235 [00:00<?, ?it/s]"
      ]
     },
     "metadata": {},
     "output_type": "display_data"
    }
   ],
   "source": [
    "for url in tqdm(operators_urls):\n",
    "    req = requests.get(url)\n",
    "    if req.status_code != 200:\n",
    "        raise requests.ConnectionError('connection failed.')\n",
    "\n",
    "    req.encoding = 'utf-8'\n",
    "        \n",
    "    soup = BeautifulSoup(req.text, 'html.parser')\n",
    "    \n",
    "    operator = {}\n",
    "    \n",
    "    op_info = soup.find('div', attrs={'class': 'op-info'}).table.tbody\n",
    "    op_info_rows = op_info.findAll('tr')\n",
    "    img_info = op_info_rows[0].td.findAll('span', recursive=False)\n",
    "    \n",
    "    operator['name'] = op_info_rows[0].find('br').nextSibling.text.strip()\n",
    "    operator['class'] = img_info[0].a['title']\n",
    "    operator['branch'] = img_info[1].a['title']\n",
    "    operator['faction'] = img_info[2].a['title']\n",
    "    operator['stars'] = op_info_rows[0].find('a', attrs={'class': 'mw-redirect'})['title']\n",
    "    operator['position'] = op_info_rows[1].findAll('td')[-1].text.strip()\n",
    "    operator['tags'] = [t.text.strip() for t in op_info_rows[2].findAll('td')[-1].findAll('div')]\n",
    "    operator['trait'] = op_info_rows[3].findAll('td')[-1].text.strip()\n",
    "    operator['availability'] = op_info_rows[4].findAll('td')[-1].text.strip()\n",
    "    operator['icon'] = op_info.find('div', attrs={'class': 'floatnone'}).img['data-src']\n",
    "    operator['description'] = op_info_rows[0].findAll('td')[-1].findAll('div', recursive=False)[-1].div.text.strip()\n",
    "    operator['phrase'] = op_info_rows[0].findAll('td')[-1].find('i').text.strip()\n",
    "\n",
    "    for info in soup.findAll('div', attrs={'class': 'pi-item'}):\n",
    "        operator[info.h3.text.strip().replace(' ', '_').lower()] = info.div.text.strip()\n",
    "    \n",
    "    attrs = ['base', 'elite_1', 'elite_2', 'max', 'trust']\n",
    "    attrs_table = soup.findAll('table', attrs={'class': 'mrfz-btable'})[1].tbody\n",
    "    for attr in attrs_table.findAll('tr')[1:]:\n",
    "        attr_text = attr.th.text.strip().replace(' ', '_').lower()\n",
    "        columns = attr.findAll('td')\n",
    "        for i, col in enumerate(columns):\n",
    "            operator[attrs[i] + '_' + attr_text] = col.text.strip()\n",
    "    \n",
    "    image_collection = soup.find('div', attrs={'class': 'pi-image-collection'})\n",
    "    if image_collection:\n",
    "        images = [img.a['href'] for img in image_collection.findAll('figure')]\n",
    "        captions = [c.text.strip() for c in image_collection.findAll('li')]\n",
    "        operator['images'] = {c: i for c, i in zip(captions, images)}\n",
    "    else:\n",
    "        operator['images'] = {operator['name']: soup.find('figure', attrs={'class': 'pi-item pi-image'}).a['href']}\n",
    "    \n",
    "    operators.append(operator)"
   ]
  },
  {
   "cell_type": "markdown",
   "id": "3dd44ce1-658d-46c1-9544-acbf87943e52",
   "metadata": {},
   "source": []
  },
  {
   "cell_type": "code",
   "execution_count": 10,
   "id": "1aa3fb3b-551b-4be5-b5ac-c61453cb881a",
   "metadata": {},
   "outputs": [
    {
     "data": {
      "text/html": [
       "<div>\n",
       "<style scoped>\n",
       "    .dataframe tbody tr th:only-of-type {\n",
       "        vertical-align: middle;\n",
       "    }\n",
       "\n",
       "    .dataframe tbody tr th {\n",
       "        vertical-align: top;\n",
       "    }\n",
       "\n",
       "    .dataframe thead th {\n",
       "        text-align: right;\n",
       "    }\n",
       "</style>\n",
       "<table border=\"1\" class=\"dataframe\">\n",
       "  <thead>\n",
       "    <tr style=\"text-align: right;\">\n",
       "      <th></th>\n",
       "      <th>name</th>\n",
       "      <th>class</th>\n",
       "      <th>branch</th>\n",
       "      <th>faction</th>\n",
       "      <th>stars</th>\n",
       "      <th>position</th>\n",
       "      <th>tags</th>\n",
       "      <th>trait</th>\n",
       "      <th>availability</th>\n",
       "      <th>icon</th>\n",
       "      <th>...</th>\n",
       "      <th>arts_adaptability</th>\n",
       "      <th>paradox_sim.</th>\n",
       "      <th>community_nickname(s)</th>\n",
       "      <th>age</th>\n",
       "      <th>real_name</th>\n",
       "      <th>operator_rec._1</th>\n",
       "      <th>operator_rec._2</th>\n",
       "      <th>leitmotif</th>\n",
       "      <th>full_name</th>\n",
       "      <th>english</th>\n",
       "    </tr>\n",
       "  </thead>\n",
       "  <tbody>\n",
       "    <tr>\n",
       "      <th>0</th>\n",
       "      <td>Castle-3</td>\n",
       "      <td>Guard</td>\n",
       "      <td>Dreadnought</td>\n",
       "      <td>Rhodes Island</td>\n",
       "      <td>1-star</td>\n",
       "      <td>Melee</td>\n",
       "      <td>[Support, Robot]</td>\n",
       "      <td>Blocks 1 enemy and ignores the Deployment Limi...</td>\n",
       "      <td>Recruitment</td>\n",
       "      <td>https://static.wikia.nocookie.net/mrfz/images/...</td>\n",
       "      <td>...</td>\n",
       "      <td>NaN</td>\n",
       "      <td>NaN</td>\n",
       "      <td>NaN</td>\n",
       "      <td>NaN</td>\n",
       "      <td>NaN</td>\n",
       "      <td>NaN</td>\n",
       "      <td>NaN</td>\n",
       "      <td>NaN</td>\n",
       "      <td>NaN</td>\n",
       "      <td>NaN</td>\n",
       "    </tr>\n",
       "    <tr>\n",
       "      <th>1</th>\n",
       "      <td>\"Justice Knight\"</td>\n",
       "      <td>Sniper</td>\n",
       "      <td>Marksman</td>\n",
       "      <td>Pinus Sylvestris</td>\n",
       "      <td>1-star</td>\n",
       "      <td>Ranged</td>\n",
       "      <td>[Support, Robot]</td>\n",
       "      <td>Attacks aerial enemies first and ignores the D...</td>\n",
       "      <td>Recruitment</td>\n",
       "      <td>https://static.wikia.nocookie.net/mrfz/images/...</td>\n",
       "      <td>...</td>\n",
       "      <td>NaN</td>\n",
       "      <td>NaN</td>\n",
       "      <td>NaN</td>\n",
       "      <td>NaN</td>\n",
       "      <td>NaN</td>\n",
       "      <td>NaN</td>\n",
       "      <td>NaN</td>\n",
       "      <td>NaN</td>\n",
       "      <td>NaN</td>\n",
       "      <td>NaN</td>\n",
       "    </tr>\n",
       "    <tr>\n",
       "      <th>2</th>\n",
       "      <td>Lancet-2</td>\n",
       "      <td>Medic</td>\n",
       "      <td>Medic</td>\n",
       "      <td>Rhodes Island</td>\n",
       "      <td>1-star</td>\n",
       "      <td>Ranged</td>\n",
       "      <td>[Healing, Robot]</td>\n",
       "      <td>Restores the HP of allies and ignores the Depl...</td>\n",
       "      <td>Recruitment; TR-10</td>\n",
       "      <td>https://static.wikia.nocookie.net/mrfz/images/...</td>\n",
       "      <td>...</td>\n",
       "      <td>NaN</td>\n",
       "      <td>NaN</td>\n",
       "      <td>NaN</td>\n",
       "      <td>NaN</td>\n",
       "      <td>NaN</td>\n",
       "      <td>NaN</td>\n",
       "      <td>NaN</td>\n",
       "      <td>NaN</td>\n",
       "      <td>NaN</td>\n",
       "      <td>NaN</td>\n",
       "    </tr>\n",
       "    <tr>\n",
       "      <th>3</th>\n",
       "      <td>THRM-EX</td>\n",
       "      <td>Specialist</td>\n",
       "      <td>Executor</td>\n",
       "      <td>Rhodes Island</td>\n",
       "      <td>1-star</td>\n",
       "      <td>Melee</td>\n",
       "      <td>[Nuker, Robot]</td>\n",
       "      <td>Does not attack and ignores the Deployment Lim...</td>\n",
       "      <td>Recruitment; 7-2</td>\n",
       "      <td>https://static.wikia.nocookie.net/mrfz/images/...</td>\n",
       "      <td>...</td>\n",
       "      <td>NaN</td>\n",
       "      <td>NaN</td>\n",
       "      <td>NaN</td>\n",
       "      <td>NaN</td>\n",
       "      <td>NaN</td>\n",
       "      <td>NaN</td>\n",
       "      <td>NaN</td>\n",
       "      <td>NaN</td>\n",
       "      <td>NaN</td>\n",
       "      <td>NaN</td>\n",
       "    </tr>\n",
       "    <tr>\n",
       "      <th>4</th>\n",
       "      <td>12F</td>\n",
       "      <td>Caster</td>\n",
       "      <td>Splash</td>\n",
       "      <td>Rhodes Island</td>\n",
       "      <td>2-star</td>\n",
       "      <td>Ranged</td>\n",
       "      <td>[Starter]</td>\n",
       "      <td>Deals AOE Arts Damage</td>\n",
       "      <td>Recruitment; TR-6</td>\n",
       "      <td>https://static.wikia.nocookie.net/mrfz/images/...</td>\n",
       "      <td>...</td>\n",
       "      <td>Standard</td>\n",
       "      <td>Survivor</td>\n",
       "      <td>[CN] 太子 (\"The Prince\")[1]</td>\n",
       "      <td>NaN</td>\n",
       "      <td>NaN</td>\n",
       "      <td>NaN</td>\n",
       "      <td>NaN</td>\n",
       "      <td>NaN</td>\n",
       "      <td>NaN</td>\n",
       "      <td>NaN</td>\n",
       "    </tr>\n",
       "  </tbody>\n",
       "</table>\n",
       "<p>5 rows × 89 columns</p>\n",
       "</div>"
      ],
      "text/plain": [
       "               name       class       branch           faction   stars  \\\n",
       "0          Castle-3       Guard  Dreadnought     Rhodes Island  1-star   \n",
       "1  \"Justice Knight\"      Sniper     Marksman  Pinus Sylvestris  1-star   \n",
       "2          Lancet-2       Medic        Medic     Rhodes Island  1-star   \n",
       "3           THRM-EX  Specialist     Executor     Rhodes Island  1-star   \n",
       "4               12F      Caster       Splash     Rhodes Island  2-star   \n",
       "\n",
       "  position              tags  \\\n",
       "0    Melee  [Support, Robot]   \n",
       "1   Ranged  [Support, Robot]   \n",
       "2   Ranged  [Healing, Robot]   \n",
       "3    Melee    [Nuker, Robot]   \n",
       "4   Ranged         [Starter]   \n",
       "\n",
       "                                               trait        availability  \\\n",
       "0  Blocks 1 enemy and ignores the Deployment Limi...         Recruitment   \n",
       "1  Attacks aerial enemies first and ignores the D...         Recruitment   \n",
       "2  Restores the HP of allies and ignores the Depl...  Recruitment; TR-10   \n",
       "3  Does not attack and ignores the Deployment Lim...    Recruitment; 7-2   \n",
       "4                              Deals AOE Arts Damage   Recruitment; TR-6   \n",
       "\n",
       "                                                icon  ... arts_adaptability  \\\n",
       "0  https://static.wikia.nocookie.net/mrfz/images/...  ...               NaN   \n",
       "1  https://static.wikia.nocookie.net/mrfz/images/...  ...               NaN   \n",
       "2  https://static.wikia.nocookie.net/mrfz/images/...  ...               NaN   \n",
       "3  https://static.wikia.nocookie.net/mrfz/images/...  ...               NaN   \n",
       "4  https://static.wikia.nocookie.net/mrfz/images/...  ...          Standard   \n",
       "\n",
       "  paradox_sim.      community_nickname(s)  age real_name operator_rec._1  \\\n",
       "0          NaN                        NaN  NaN       NaN             NaN   \n",
       "1          NaN                        NaN  NaN       NaN             NaN   \n",
       "2          NaN                        NaN  NaN       NaN             NaN   \n",
       "3          NaN                        NaN  NaN       NaN             NaN   \n",
       "4     Survivor  [CN] 太子 (\"The Prince\")[1]  NaN       NaN             NaN   \n",
       "\n",
       "  operator_rec._2 leitmotif full_name english  \n",
       "0             NaN       NaN       NaN     NaN  \n",
       "1             NaN       NaN       NaN     NaN  \n",
       "2             NaN       NaN       NaN     NaN  \n",
       "3             NaN       NaN       NaN     NaN  \n",
       "4             NaN       NaN       NaN     NaN  \n",
       "\n",
       "[5 rows x 89 columns]"
      ]
     },
     "execution_count": 10,
     "metadata": {},
     "output_type": "execute_result"
    }
   ],
   "source": [
    "df = pd.DataFrame(operators)\n",
    "df.head()"
   ]
  },
  {
   "cell_type": "markdown",
   "id": "dd9ba791-4ea4-47a2-b199-77aa5395c3ca",
   "metadata": {},
   "source": []
  },
  {
   "cell_type": "code",
   "execution_count": 12,
   "id": "d65a153f-ca52-4762-b9d7-de79d4640d96",
   "metadata": {},
   "outputs": [],
   "source": [
    "df.to_csv('src/data.csv', index=False)"
   ]
  },
  {
   "cell_type": "markdown",
   "id": "ce8e7f1d-44f6-4344-832c-ad1f328bdf5e",
   "metadata": {},
   "source": []
  }
 ],
 "metadata": {
  "kernelspec": {
   "display_name": "Python 3 (ipykernel)",
   "language": "python",
   "name": "python3"
  },
  "language_info": {
   "codemirror_mode": {
    "name": "ipython",
    "version": 3
   },
   "file_extension": ".py",
   "mimetype": "text/x-python",
   "name": "python",
   "nbconvert_exporter": "python",
   "pygments_lexer": "ipython3",
   "version": "3.9.7"
  }
 },
 "nbformat": 4,
 "nbformat_minor": 5
}
