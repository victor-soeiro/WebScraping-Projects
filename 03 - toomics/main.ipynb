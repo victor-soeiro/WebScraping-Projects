{
 "cells": [
  {
   "cell_type": "markdown",
   "id": "0d420962-2826-420e-aa69-d0b677001518",
   "metadata": {},
   "source": [
    "# **Toomics - WebScraping**"
   ]
  },
  {
   "cell_type": "markdown",
   "id": "16a7235a-5c00-4447-958f-81fa516805ce",
   "metadata": {},
   "source": [
    "<img src=\"https://scontent-gig2-1.xx.fbcdn.net/v/t39.30808-6/260982248_693542505343662_2286003224233358833_n.jpg?_nc_cat=100&ccb=1-5&_nc_sid=e3f864&_nc_eui2=AeHAsLFxSlI7447Vvz1-jLO37QxwPctQ33XtDHA9y1DfdVLoKWRM3bAcXLxAc78bwduwyL9btX8CLgh_I0m_EmLS&_nc_ohc=1nByVYgUztYAX87gLaG&_nc_ht=scontent-gig2-1.xx&oh=00_AT9kz4M9UAPpCZUpwMf10asF_HTS1vot3Clge1bHJ0EnoA&oe=627811D3\" width=\"100%\">"
   ]
  },
  {
   "cell_type": "markdown",
   "id": "040f6d24-6abf-41d4-960f-dbb61b259a12",
   "metadata": {},
   "source": [
    "## **Introduction**"
   ]
  },
  {
   "cell_type": "markdown",
   "id": "83540ca9-1bdd-4194-b1fc-77a8fc24f577",
   "metadata": {},
   "source": [
    "Toomics is a premium subscription webtoon service with exclusive titles from professional artists. Following the other webscraping projects, as Tapas and Anime-Planet, this projects aims to scrape the webtoons available on [Toomics](https://toomics.com/). The data will be stored on a CSV file, and available on GitHub and Kaggle for research purposes.\n",
    "\n",
    "**Disclaimer:** This is a personal project to practice webscraping skills and exploratory data analysis. I do not recommend to use for other purposes. Use it at your own risk."
   ]
  },
  {
   "cell_type": "markdown",
   "id": "08a8c41d-2e8c-481b-bf4c-b20df8bfd15b",
   "metadata": {},
   "source": [
    "## **Let's Start**"
   ]
  },
  {
   "cell_type": "markdown",
   "id": "1ea2e570-d9d0-441d-9dea-8cd3668a083f",
   "metadata": {
    "jp-MarkdownHeadingCollapsed": true,
    "tags": []
   },
   "source": [
    "### **Libraries**"
   ]
  },
  {
   "cell_type": "markdown",
   "id": "eb44a2bf-6b62-463e-89ef-732e9b69f40c",
   "metadata": {},
   "source": [
    "This is a simple project, all the toons and comics are presented in a single page. We will make only one request and extract all the information with **bs4**. The file handling we will use Pandas! So, let's import those libraries! If you wanna replicate this notebook, maybe you need to install the packages with PIP command."
   ]
  },
  {
   "cell_type": "code",
   "execution_count": 26,
   "id": "a4adc911-d91d-413c-8da9-d5f966d5614c",
   "metadata": {},
   "outputs": [],
   "source": [
    "import requests\n",
    "import pandas as pd\n",
    "from bs4 import BeautifulSoup"
   ]
  },
  {
   "cell_type": "markdown",
   "id": "d2a65aa2-1d39-44db-9f59-cb4f43ee1662",
   "metadata": {
    "jp-MarkdownHeadingCollapsed": true,
    "tags": []
   },
   "source": [
    "### **Unlimited Power**"
   ]
  },
  {
   "cell_type": "markdown",
   "id": "3c826646-5d5f-4592-8e8d-969fdc5f21a1",
   "metadata": {},
   "source": [
    "Toomics has a **family safe** mode that not shows all their works. Analyzing the requests from the page, we need to desactivate the mode and save the cookies. In requests package we can create a session that persists the cookies. It will be very helpfull on the project. "
   ]
  },
  {
   "cell_type": "code",
   "execution_count": 3,
   "id": "849b4ebc-e979-4b87-ada1-925fa9d96408",
   "metadata": {},
   "outputs": [],
   "source": [
    "session = requests.session()"
   ]
  },
  {
   "cell_type": "markdown",
   "id": "adff309d-03eb-4d2b-924b-e3fd88263230",
   "metadata": {},
   "source": [
    "When we click to desactivate the family safe mode we are redirected to another page to confirm our identity. After clicking the button, they will return a cookie to we visualize all the webtoons available on the main url. Let's make the requests from our session to persists all the cookies. "
   ]
  },
  {
   "cell_type": "code",
   "execution_count": 4,
   "id": "d3cb39c4-7e28-4d2e-be87-1ca0d46b872c",
   "metadata": {
    "tags": []
   },
   "outputs": [
    {
     "data": {
      "text/plain": [
       "<Response [200]>"
      ]
     },
     "execution_count": 4,
     "metadata": {},
     "output_type": "execute_result"
    }
   ],
   "source": [
    "session.get('https://toomics.com/en/index/set_family_mode/?family_mode=N&return=/en/webtoon/ranking')\n",
    "session.get('https://toomics.com/en/age_verification?cancel_return=L2VuL3dlYnRvb24vcmFua2luZw~~&return_url=L2VuL3dlYnRvb24vcmFua2luZw~~')"
   ]
  },
  {
   "cell_type": "markdown",
   "id": "0fe331a3-4753-4485-94cc-f129eb79c026",
   "metadata": {},
   "source": [
    "Now, we can define the main url that will return all the webtoons."
   ]
  },
  {
   "cell_type": "code",
   "execution_count": 2,
   "id": "e0c1786b-af09-4aea-95b2-39a587ede024",
   "metadata": {},
   "outputs": [],
   "source": [
    "url = 'https://toomics.com/en/index/set_display/?display=A&return=/en/webtoon/ranking'"
   ]
  },
  {
   "cell_type": "markdown",
   "id": "d6a38c72-f616-47ba-b019-b1e7ec89f672",
   "metadata": {
    "jp-MarkdownHeadingCollapsed": true,
    "tags": []
   },
   "source": [
    "### **Scraper**"
   ]
  },
  {
   "cell_type": "markdown",
   "id": "b2957b77-9a6f-4d14-ac98-243690366ae4",
   "metadata": {},
   "source": [
    "We have everything in hand to start the scraping process. Let's make the request to retrieve the HTML and start the extraction."
   ]
  },
  {
   "cell_type": "code",
   "execution_count": 5,
   "id": "db784aab-6bf7-484b-b8d9-9fe186b52a5d",
   "metadata": {},
   "outputs": [
    {
     "data": {
      "text/plain": [
       "200"
      ]
     },
     "execution_count": 5,
     "metadata": {},
     "output_type": "execute_result"
    }
   ],
   "source": [
    "req = requests.get(url)\n",
    "req.status_code"
   ]
  },
  {
   "cell_type": "markdown",
   "id": "228f7b34-687a-4f4e-afc0-f046017816ef",
   "metadata": {},
   "source": [
    "Great! The connection worked. Let's parse the HTML to a BeautifulSoup object."
   ]
  },
  {
   "cell_type": "code",
   "execution_count": 6,
   "id": "50f8c4f5-62d4-4154-a9fa-cbcc7c51a378",
   "metadata": {},
   "outputs": [],
   "source": [
    "soup = BeautifulSoup(req.text, 'html.parser')"
   ]
  },
  {
   "cell_type": "markdown",
   "id": "531cda00-7a38-4718-91b8-ad65ec7c661e",
   "metadata": {},
   "source": [
    "We will create a function to retrieve all items of the page. It's very directly and intuitive. "
   ]
  },
  {
   "cell_type": "code",
   "execution_count": 20,
   "id": "7f09534a-717a-46e7-a625-e2f14cf160a1",
   "metadata": {},
   "outputs": [],
   "source": [
    "def get_webtoons():\n",
    "    items = soup.find('ul', attrs={'class': 'best'}).findAll('li')\n",
    "    items.extend(soup.find('ul', attrs={'class': 'lists lists-rank'}).findAll('li'))\n",
    "    \n",
    "    data = []\n",
    "    for i in items:\n",
    "        title = i.find('h4').text.strip()\n",
    "        episodes = i.find('span', attrs={'class': 'section_remai'}).text.strip()\n",
    "        writers = i.find('p', attrs={'class': 'writer'}).text.split(' | ')\n",
    "        genres = [g.text for g in i.find('p', attrs={'class': 'etc'}).findAll('span')]\n",
    "        badges = [b.text for b in i.find('div', attrs={'class': 'ico_box'}).findAll('p')]\n",
    "        link = 'https://toomics.com' + i.div.a['href']\n",
    "        cover_img = i.find('img')\n",
    "        cover = cover_img['data-original'] if cover_img.has_attr('data-original') else cover_img['src']\n",
    "        \n",
    "        data.append([title, episodes, writers, genres, badges, link, cover])\n",
    "\n",
    "    return data"
   ]
  },
  {
   "cell_type": "markdown",
   "id": "980552fa-5ebe-419f-bc19-82d6700bbfaf",
   "metadata": {},
   "source": [
    "Defining the columns names for the data table."
   ]
  },
  {
   "cell_type": "code",
   "execution_count": 8,
   "id": "486fb806-944a-4375-9348-801865836f5f",
   "metadata": {},
   "outputs": [],
   "source": [
    "columns = ['title', 'episodes', 'writers', 'genres', 'badges', 'link', 'cover']"
   ]
  },
  {
   "cell_type": "markdown",
   "id": "4cc7d4d5-9c52-452b-9bee-e76de875fcd6",
   "metadata": {},
   "source": [
    "And for the main part of the project, let's start the engine!"
   ]
  },
  {
   "cell_type": "code",
   "execution_count": 23,
   "id": "ebabe3c8-fff2-4834-a9ce-a474176a91ce",
   "metadata": {},
   "outputs": [
    {
     "data": {
      "text/html": [
       "<div>\n",
       "<style scoped>\n",
       "    .dataframe tbody tr th:only-of-type {\n",
       "        vertical-align: middle;\n",
       "    }\n",
       "\n",
       "    .dataframe tbody tr th {\n",
       "        vertical-align: top;\n",
       "    }\n",
       "\n",
       "    .dataframe thead th {\n",
       "        text-align: right;\n",
       "    }\n",
       "</style>\n",
       "<table border=\"1\" class=\"dataframe\">\n",
       "  <thead>\n",
       "    <tr style=\"text-align: right;\">\n",
       "      <th></th>\n",
       "      <th>title</th>\n",
       "      <th>episodes</th>\n",
       "      <th>writers</th>\n",
       "      <th>genres</th>\n",
       "      <th>badges</th>\n",
       "      <th>link</th>\n",
       "      <th>cover</th>\n",
       "    </tr>\n",
       "  </thead>\n",
       "  <tbody>\n",
       "    <tr>\n",
       "      <th>0</th>\n",
       "      <td>The Unforeseen Guest</td>\n",
       "      <td>11</td>\n",
       "      <td>[Viagra, Sexy Bong ]</td>\n",
       "      <td>[Drama]</td>\n",
       "      <td>[18+, Up, New]</td>\n",
       "      <td>https://toomics.com/en/webtoon/episode/toon/5809</td>\n",
       "      <td>https://thumb-g1.toomics.com/upload/thumbnail/...</td>\n",
       "    </tr>\n",
       "    <tr>\n",
       "      <th>1</th>\n",
       "      <td>My Aunt</td>\n",
       "      <td>140</td>\n",
       "      <td>[Viagra, Sexy Bong ]</td>\n",
       "      <td>[Drama, Romance]</td>\n",
       "      <td>[18+, End]</td>\n",
       "      <td>https://toomics.com/en/webtoon/episode/toon/4966</td>\n",
       "      <td>https://thumb-g2.toomics.com/upload/thumbnail/...</td>\n",
       "    </tr>\n",
       "    <tr>\n",
       "      <th>2</th>\n",
       "      <td>Excuse me, This is my Room</td>\n",
       "      <td>103</td>\n",
       "      <td>[LObeam, kook ]</td>\n",
       "      <td>[Drama, Comedy]</td>\n",
       "      <td>[18+]</td>\n",
       "      <td>https://toomics.com/en/webtoon/episode/toon/5200</td>\n",
       "      <td>https://thumb-g2.toomics.com/upload/thumbnail/...</td>\n",
       "    </tr>\n",
       "    <tr>\n",
       "      <th>3</th>\n",
       "      <td>My High School Bully</td>\n",
       "      <td>76</td>\n",
       "      <td>[Andrew, Kkokkio ]</td>\n",
       "      <td>[Drama]</td>\n",
       "      <td>[18+]</td>\n",
       "      <td>https://toomics.com/en/webtoon/episode/toon/5238</td>\n",
       "      <td>https://thumb-g2.toomics.com/upload/thumbnail/...</td>\n",
       "    </tr>\n",
       "    <tr>\n",
       "      <th>4</th>\n",
       "      <td>Love Factory</td>\n",
       "      <td>28</td>\n",
       "      <td>[G-goon, C.Dyce ]</td>\n",
       "      <td>[Drama, Romance]</td>\n",
       "      <td>[18+, End]</td>\n",
       "      <td>https://toomics.com/en/webtoon/episode/toon/5800</td>\n",
       "      <td>https://thumb-g2.toomics.com/upload/thumbnail/...</td>\n",
       "    </tr>\n",
       "  </tbody>\n",
       "</table>\n",
       "</div>"
      ],
      "text/plain": [
       "                        title episodes               writers  \\\n",
       "0        The Unforeseen Guest       11  [Viagra, Sexy Bong ]   \n",
       "1                     My Aunt      140  [Viagra, Sexy Bong ]   \n",
       "2  Excuse me, This is my Room      103       [LObeam, kook ]   \n",
       "3        My High School Bully       76    [Andrew, Kkokkio ]   \n",
       "4                Love Factory       28     [G-goon, C.Dyce ]   \n",
       "\n",
       "             genres          badges  \\\n",
       "0           [Drama]  [18+, Up, New]   \n",
       "1  [Drama, Romance]      [18+, End]   \n",
       "2   [Drama, Comedy]           [18+]   \n",
       "3           [Drama]           [18+]   \n",
       "4  [Drama, Romance]      [18+, End]   \n",
       "\n",
       "                                               link  \\\n",
       "0  https://toomics.com/en/webtoon/episode/toon/5809   \n",
       "1  https://toomics.com/en/webtoon/episode/toon/4966   \n",
       "2  https://toomics.com/en/webtoon/episode/toon/5200   \n",
       "3  https://toomics.com/en/webtoon/episode/toon/5238   \n",
       "4  https://toomics.com/en/webtoon/episode/toon/5800   \n",
       "\n",
       "                                               cover  \n",
       "0  https://thumb-g1.toomics.com/upload/thumbnail/...  \n",
       "1  https://thumb-g2.toomics.com/upload/thumbnail/...  \n",
       "2  https://thumb-g2.toomics.com/upload/thumbnail/...  \n",
       "3  https://thumb-g2.toomics.com/upload/thumbnail/...  \n",
       "4  https://thumb-g2.toomics.com/upload/thumbnail/...  "
      ]
     },
     "execution_count": 23,
     "metadata": {},
     "output_type": "execute_result"
    }
   ],
   "source": [
    "data = get_webtoons()\n",
    "data_df = pd.DataFrame(data, columns=columns)\n",
    "data_df.head()"
   ]
  },
  {
   "cell_type": "markdown",
   "id": "0bb83064-2082-49a1-9675-dc26af0eef6c",
   "metadata": {},
   "source": [
    "Great! Our data was collected perfectly. Let's check the shape of data."
   ]
  },
  {
   "cell_type": "code",
   "execution_count": 24,
   "id": "47f49718-a2e6-41d4-859e-79c875199327",
   "metadata": {},
   "outputs": [
    {
     "data": {
      "text/plain": [
       "(639, 7)"
      ]
     },
     "execution_count": 24,
     "metadata": {},
     "output_type": "execute_result"
    }
   ],
   "source": [
    "data_df.shape"
   ]
  },
  {
   "cell_type": "markdown",
   "id": "1d1253f1-fe9e-41ae-abb3-21f1c0324dba",
   "metadata": {},
   "source": [
    "We have a total of 639 webtoons. If family safe was activated it would be around 250. Let's save and end the webscraping project."
   ]
  },
  {
   "cell_type": "code",
   "execution_count": 25,
   "id": "464303ad-15e3-4732-b692-80b316cf17a6",
   "metadata": {},
   "outputs": [],
   "source": [
    "data_df.to_csv('data.csv', index=False)"
   ]
  },
  {
   "cell_type": "markdown",
   "id": "ce06b7ed-d32e-400a-a525-48d236d9fe7a",
   "metadata": {
    "jp-MarkdownHeadingCollapsed": true,
    "tags": []
   },
   "source": [
    "### **Contact**\n",
    "\n",
    "If you have any questions or suggestions, send me an email to victor.soeiro.araujo@gmail.com\n"
   ]
  }
 ],
 "metadata": {
  "kernelspec": {
   "display_name": "Python 3 (ipykernel)",
   "language": "python",
   "name": "python3"
  },
  "language_info": {
   "codemirror_mode": {
    "name": "ipython",
    "version": 3
   },
   "file_extension": ".py",
   "mimetype": "text/x-python",
   "name": "python",
   "nbconvert_exporter": "python",
   "pygments_lexer": "ipython3",
   "version": "3.9.7"
  }
 },
 "nbformat": 4,
 "nbformat_minor": 5
}
