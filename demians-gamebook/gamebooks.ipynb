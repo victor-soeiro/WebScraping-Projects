{
 "cells": [
  {
   "cell_type": "markdown",
   "id": "f610498e-db6b-4d50-811a-0573b3c536b2",
   "metadata": {},
   "source": [
    "## Demian's Gamebook - WebScraping Project"
   ]
  },
  {
   "cell_type": "markdown",
   "id": "53ade296-467e-44ac-9f53-25d2723cb931",
   "metadata": {},
   "source": [
    "### Libraries"
   ]
  },
  {
   "cell_type": "code",
   "execution_count": 1,
   "id": "2fcf932f-1545-467d-a3c3-1c7e509deb62",
   "metadata": {},
   "outputs": [],
   "source": [
    "import requests\n",
    "\n",
    "from bs4 import BeautifulSoup\n",
    "from tqdm.notebook import tqdm"
   ]
  },
  {
   "cell_type": "markdown",
   "id": "49ab16cc-281e-42c5-97c8-ce305b3ef37a",
   "metadata": {},
   "source": [
    "### Retrieving Items ID"
   ]
  },
  {
   "cell_type": "code",
   "execution_count": 2,
   "id": "e7e9724a-5962-4361-b68c-6416e99a6211",
   "metadata": {},
   "outputs": [],
   "source": [
    "URL = 'https://gamebooks.org/Items'"
   ]
  },
  {
   "cell_type": "code",
   "execution_count": 3,
   "id": "20995edb-57a3-4ce5-86c6-f15d7c677226",
   "metadata": {},
   "outputs": [],
   "source": [
    "def get_items():\n",
    "    req = requests.get(URL)\n",
    "    if req.status_code != 200:\n",
    "        raise requests.ConnectionError(f'Something went wrong. [{req.status_code}]')\n",
    "    \n",
    "    soup = BeautifulSoup(req.text, 'html.parser')\n",
    "    links = soup.find('div', class_='content').findAll('a', recursive=False)\n",
    "    return [a['href'].split('/')[-1] for a in links if a.get('href')]"
   ]
  },
  {
   "cell_type": "code",
   "execution_count": 4,
   "id": "d02b1da4-57cc-436d-b4d5-208ec2d03aa8",
   "metadata": {},
   "outputs": [
    {
     "name": "stdout",
     "output_type": "stream",
     "text": [
      "Total Number of Entries: 13798\n"
     ]
    }
   ],
   "source": [
    "items = get_items()\n",
    "print('Total Number of Entries:', len(items))"
   ]
  },
  {
   "cell_type": "markdown",
   "id": "2b7a8ff0-6716-4663-a584-bdc79dcf849c",
   "metadata": {},
   "source": [
    "### Collect Item Data"
   ]
  },
  {
   "cell_type": "code",
   "execution_count": 5,
   "id": "be346dbe-77e4-428b-a5ee-dba869145f69",
   "metadata": {},
   "outputs": [],
   "source": [
    "URL_ITEM = 'https://gamebooks.org/Item/{}/Editions'"
   ]
  },
  {
   "cell_type": "code",
   "execution_count": 6,
   "id": "35025d98-233d-4e63-bd2f-83fdde14e1da",
   "metadata": {},
   "outputs": [],
   "source": [
    "def get_table_information(table, all_text=None, only_links=None, secondary_information=None):\n",
    "    if not all_text:\n",
    "        all_text = []\n",
    "    \n",
    "    if not only_links:\n",
    "        only_links = []\n",
    "    \n",
    "    if not secondary_information:\n",
    "        secondary_information = {}\n",
    "    \n",
    "    data = dict()\n",
    "    rows = table.findAll('tr')\n",
    "    for row in rows:\n",
    "        key = row.th.text.replace(':', '').strip()\n",
    "        if secondary_information and key in secondary_information.keys():\n",
    "            raw = [i.text.strip() for i in row.td.children if i.name != 'a']\n",
    "            if raw:\n",
    "                val = ' '.join(raw).strip()\n",
    "                data[secondary_information[key]] = val\n",
    "            \n",
    "        if key in all_text:\n",
    "            raw = [i.text.strip() for i in row.td.children]\n",
    "            val = ' '.join(raw).strip()\n",
    "        \n",
    "        elif key in only_links:\n",
    "            val = [i.text.strip() for i in row.td.findAll('a')]\n",
    "            if len(val) == 1:\n",
    "                val = val[0] \n",
    "        \n",
    "        else:\n",
    "            continue\n",
    "        \n",
    "        data[key] = val\n",
    "    \n",
    "    return data"
   ]
  },
  {
   "cell_type": "code",
   "execution_count": 7,
   "id": "8f52aae2-1908-49f5-b8a5-2038f8d4f35d",
   "metadata": {},
   "outputs": [],
   "source": [
    "ED_TEXT = [\n",
    "    'Date',\n",
    "    'Length',\n",
    "    'Number of Endings',\n",
    "]\n",
    "\n",
    "ED_LINK = [\n",
    "    'Item', \n",
    "    'Series',\n",
    "    'Author',\n",
    "    'Illustrators',\n",
    "    'ISBN'\n",
    "]\n",
    "\n",
    "ED_OTHER = {\n",
    "    'Series': 'Series Number'\n",
    "}"
   ]
  },
  {
   "cell_type": "code",
   "execution_count": 8,
   "id": "d3fdc614-10ff-4aba-8061-e8fb354f7954",
   "metadata": {},
   "outputs": [],
   "source": [
    "def get_edition_information(edition):\n",
    "    name = edition[0]\n",
    "    \n",
    "    images = []\n",
    "    tables = []\n",
    "    for row in edition[1:]:\n",
    "        row_images = ['https://gamebooks.org' + i['src'] for i in row.findAll('img')]\n",
    "        row_tables = row.find('table')\n",
    "        images.extend(row_images)\n",
    "        if row_tables:\n",
    "            tables.append(get_table_information(row_tables, ED_TEXT, ED_LINK, ED_OTHER))\n",
    "    \n",
    "    if len(tables) > 1:\n",
    "        tables = {key: val for key, val in t for t in tables}\n",
    "    else:\n",
    "        tables = tables[0]\n",
    "    \n",
    "    tables['Edition'] = name\n",
    "    tables['Images'] = images\n",
    "    \n",
    "    return tables"
   ]
  },
  {
   "cell_type": "code",
   "execution_count": 9,
   "id": "06fee4ef-a59f-4001-980b-befe3b1ada5e",
   "metadata": {},
   "outputs": [],
   "source": [
    "DETAILS_TEXT = [\n",
    "    'Advertisement Blurb'\n",
    "]\n",
    "\n",
    "DETAILS_LINK = [\n",
    "    'Translated From',\n",
    "    'Translated Into',\n",
    "    'Contained Into'\n",
    "]\n",
    "\n",
    "DETAILS_OTHER = {\n",
    "    'Translated Into': 'Countries'\n",
    "}"
   ]
  },
  {
   "cell_type": "code",
   "execution_count": 10,
   "id": "a793d73c-06b5-43cc-ac59-1c11d64370f1",
   "metadata": {},
   "outputs": [],
   "source": [
    "def get_gamebook_information(item):\n",
    "    url = URL_ITEM.format(item)\n",
    "    req = requests.get(url)\n",
    "    if req.status_code != 200:\n",
    "        raise requests.ConnectionError(f'Something went wrong - {item} [{req.status_code}]')\n",
    "\n",
    "    soup = BeautifulSoup(req.text, 'html.parser')\n",
    "    \n",
    "    rows = soup.find('div', class_='content').findAll('div', class_='row')\n",
    "    details = get_table_information(rows.pop(0), DETAILS_TEXT, DETAILS_LINK, DETAILS_OTHER)\n",
    "    if 'Translated From' in details.keys():\n",
    "        return\n",
    "    \n",
    "    editions_raw = []\n",
    "    for row in rows:\n",
    "        sibling = row.previous_sibling\n",
    "        if sibling.name != 'h2':\n",
    "            editions_raw[-1].append(row)\n",
    "        else:\n",
    "            editions_raw.append([sibling.text.strip(), row])\n",
    "    \n",
    "    editions = [get_edition_information(i) for i in editions_raw]\n",
    "    \n",
    "    first_edition = editions.pop(0)\n",
    "    details.update(first_edition)\n",
    "    del details['Edition']\n",
    "    \n",
    "    return details, editions"
   ]
  },
  {
   "cell_type": "code",
   "execution_count": 16,
   "id": "a283f150-5746-4dc2-9c9a-8026420e9612",
   "metadata": {},
   "outputs": [],
   "source": [
    "gamebooks = {}\n",
    "editions = {}"
   ]
  },
  {
   "cell_type": "code",
   "execution_count": 17,
   "id": "3587ceec-8ee9-4e18-9402-59b034cf348b",
   "metadata": {},
   "outputs": [
    {
     "data": {
      "application/vnd.jupyter.widget-view+json": {
       "model_id": "2938ad2f994c423ebe1775d9159d01ac",
       "version_major": 2,
       "version_minor": 0
      },
      "text/plain": [
       "  0%|          | 0/13798 [00:00<?, ?it/s]"
      ]
     },
     "metadata": {},
     "output_type": "display_data"
    },
    {
     "ename": "IndexError",
     "evalue": "pop from empty list",
     "output_type": "error",
     "traceback": [
      "\u001b[1;31m---------------------------------------------------------------------------\u001b[0m",
      "\u001b[1;31mIndexError\u001b[0m                                Traceback (most recent call last)",
      "\u001b[1;32mC:\\WINDOWS\\TEMP/ipykernel_13052/3542718740.py\u001b[0m in \u001b[0;36m<module>\u001b[1;34m\u001b[0m\n\u001b[0;32m      3\u001b[0m         \u001b[1;32mcontinue\u001b[0m\u001b[1;33m\u001b[0m\u001b[1;33m\u001b[0m\u001b[0m\n\u001b[0;32m      4\u001b[0m \u001b[1;33m\u001b[0m\u001b[0m\n\u001b[1;32m----> 5\u001b[1;33m     \u001b[0mgm\u001b[0m \u001b[1;33m=\u001b[0m \u001b[0mget_gamebook_information\u001b[0m\u001b[1;33m(\u001b[0m\u001b[0mi\u001b[0m\u001b[1;33m)\u001b[0m\u001b[1;33m\u001b[0m\u001b[1;33m\u001b[0m\u001b[0m\n\u001b[0m\u001b[0;32m      6\u001b[0m     \u001b[1;32mif\u001b[0m \u001b[0mgm\u001b[0m\u001b[1;33m:\u001b[0m\u001b[1;33m\u001b[0m\u001b[1;33m\u001b[0m\u001b[0m\n\u001b[0;32m      7\u001b[0m         \u001b[0mgamebooks\u001b[0m\u001b[1;33m[\u001b[0m\u001b[0mi\u001b[0m\u001b[1;33m]\u001b[0m \u001b[1;33m=\u001b[0m \u001b[0mgm\u001b[0m\u001b[1;33m[\u001b[0m\u001b[1;36m0\u001b[0m\u001b[1;33m]\u001b[0m\u001b[1;33m\u001b[0m\u001b[1;33m\u001b[0m\u001b[0m\n",
      "\u001b[1;32mC:\\WINDOWS\\TEMP/ipykernel_13052/222595293.py\u001b[0m in \u001b[0;36mget_gamebook_information\u001b[1;34m(item)\u001b[0m\n\u001b[0;32m     22\u001b[0m     \u001b[0meditions\u001b[0m \u001b[1;33m=\u001b[0m \u001b[1;33m[\u001b[0m\u001b[0mget_edition_information\u001b[0m\u001b[1;33m(\u001b[0m\u001b[0mi\u001b[0m\u001b[1;33m)\u001b[0m \u001b[1;32mfor\u001b[0m \u001b[0mi\u001b[0m \u001b[1;32min\u001b[0m \u001b[0meditions_raw\u001b[0m\u001b[1;33m]\u001b[0m\u001b[1;33m\u001b[0m\u001b[1;33m\u001b[0m\u001b[0m\n\u001b[0;32m     23\u001b[0m \u001b[1;33m\u001b[0m\u001b[0m\n\u001b[1;32m---> 24\u001b[1;33m     \u001b[0mfirst_edition\u001b[0m \u001b[1;33m=\u001b[0m \u001b[0meditions\u001b[0m\u001b[1;33m.\u001b[0m\u001b[0mpop\u001b[0m\u001b[1;33m(\u001b[0m\u001b[1;36m0\u001b[0m\u001b[1;33m)\u001b[0m\u001b[1;33m\u001b[0m\u001b[1;33m\u001b[0m\u001b[0m\n\u001b[0m\u001b[0;32m     25\u001b[0m     \u001b[0mdetails\u001b[0m\u001b[1;33m.\u001b[0m\u001b[0mupdate\u001b[0m\u001b[1;33m(\u001b[0m\u001b[0mfirst_edition\u001b[0m\u001b[1;33m)\u001b[0m\u001b[1;33m\u001b[0m\u001b[1;33m\u001b[0m\u001b[0m\n\u001b[0;32m     26\u001b[0m     \u001b[1;32mdel\u001b[0m \u001b[0mdetails\u001b[0m\u001b[1;33m[\u001b[0m\u001b[1;34m'Edition'\u001b[0m\u001b[1;33m]\u001b[0m\u001b[1;33m\u001b[0m\u001b[1;33m\u001b[0m\u001b[0m\n",
      "\u001b[1;31mIndexError\u001b[0m: pop from empty list"
     ]
    }
   ],
   "source": [
    "for i in tqdm(items):\n",
    "    if i in gamebooks.keys():\n",
    "        continue \n",
    "        \n",
    "    gm = get_gamebook_information(i)\n",
    "    if gm:\n",
    "        gamebooks[i] = gm[0]\n",
    "        editions[i] = gm[1]"
   ]
  },
  {
   "cell_type": "code",
   "execution_count": null,
   "id": "9b143bf2-1f3c-4f59-9627-eb0508c69183",
   "metadata": {},
   "outputs": [],
   "source": []
  }
 ],
 "metadata": {
  "kernelspec": {
   "display_name": "Python 3 (ipykernel)",
   "language": "python",
   "name": "python3"
  },
  "language_info": {
   "codemirror_mode": {
    "name": "ipython",
    "version": 3
   },
   "file_extension": ".py",
   "mimetype": "text/x-python",
   "name": "python",
   "nbconvert_exporter": "python",
   "pygments_lexer": "ipython3",
   "version": "3.9.7"
  }
 },
 "nbformat": 4,
 "nbformat_minor": 5
}
